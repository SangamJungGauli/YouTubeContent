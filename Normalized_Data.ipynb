{
  "nbformat": 4,
  "nbformat_minor": 0,
  "metadata": {
    "colab": {
      "provenance": []
    },
    "kernelspec": {
      "name": "python3",
      "display_name": "Python 3"
    },
    "language_info": {
      "name": "python"
    }
  },
  "cells": [
    {
      "cell_type": "code",
      "execution_count": null,
      "metadata": {
        "id": "E1yddwQ6jHQ6"
      },
      "outputs": [],
      "source": [
        "import torch\n",
        "from torch import nn"
      ]
    },
    {
      "cell_type": "code",
      "source": [
        "data = torch.tensor([[20,100000,2], [25,80000,1], [30,20000,3], [31, 200000,3], [39, 350000,2], [40, 400000,2]], dtype=torch.float)"
      ],
      "metadata": {
        "id": "5FPI9aUdjNqJ"
      },
      "execution_count": null,
      "outputs": []
    },
    {
      "cell_type": "code",
      "source": [
        "data"
      ],
      "metadata": {
        "colab": {
          "base_uri": "https://localhost:8080/"
        },
        "id": "nAN0Kraf3XCi",
        "outputId": "ffd14490-3fa6-417e-c193-aef6944cc9b7"
      },
      "execution_count": null,
      "outputs": [
        {
          "output_type": "execute_result",
          "data": {
            "text/plain": [
              "tensor([[2.0000e+01, 1.0000e+05, 2.0000e+00],\n",
              "        [2.5000e+01, 8.0000e+04, 1.0000e+00],\n",
              "        [3.0000e+01, 2.0000e+04, 3.0000e+00],\n",
              "        [3.1000e+01, 2.0000e+05, 3.0000e+00],\n",
              "        [3.9000e+01, 3.5000e+05, 2.0000e+00],\n",
              "        [4.0000e+01, 4.0000e+05, 2.0000e+00]])"
            ]
          },
          "metadata": {},
          "execution_count": 51
        }
      ]
    },
    {
      "cell_type": "code",
      "source": [
        "X = data[:, :-1]\n",
        "y = data[:, -1].unsqueeze(dim=1)"
      ],
      "metadata": {
        "id": "UDyGciglof9h"
      },
      "execution_count": null,
      "outputs": []
    },
    {
      "cell_type": "code",
      "source": [
        "X,y"
      ],
      "metadata": {
        "colab": {
          "base_uri": "https://localhost:8080/"
        },
        "id": "lIsXHIIa2mKs",
        "outputId": "0758daa8-aea0-4858-d46b-8ab51521c75e"
      },
      "execution_count": null,
      "outputs": [
        {
          "output_type": "execute_result",
          "data": {
            "text/plain": [
              "(tensor([[2.0000e+01, 1.0000e+05],\n",
              "         [2.5000e+01, 8.0000e+04],\n",
              "         [3.0000e+01, 2.0000e+04],\n",
              "         [3.1000e+01, 2.0000e+05],\n",
              "         [3.9000e+01, 3.5000e+05],\n",
              "         [4.0000e+01, 4.0000e+05]]),\n",
              " tensor([[2.],\n",
              "         [1.],\n",
              "         [3.],\n",
              "         [3.],\n",
              "         [2.],\n",
              "         [2.]]))"
            ]
          },
          "metadata": {},
          "execution_count": 53
        }
      ]
    },
    {
      "cell_type": "code",
      "source": [
        "# Min-Max Scaling\n",
        "X_min = X.min(axis=0)\n",
        "X_max = X.max(axis=0)\n",
        "X_minmax_norm = (X - X_min.values) / (X_max.values - X_min.values)\n",
        "\n",
        "# Z-Score Normalization\n",
        "X_mean = X.mean(axis=0)\n",
        "X_std = X.std(axis=0)\n",
        "X_zscore_norm = (X - X_mean) / X_std"
      ],
      "metadata": {
        "id": "VBMx1fe3rPnQ"
      },
      "execution_count": null,
      "outputs": []
    },
    {
      "cell_type": "code",
      "source": [
        "def train_loop(model:nn.Module,\n",
        "               X:torch.tensor,\n",
        "               y:torch.tensor,\n",
        "               loss_fn:nn.Module,\n",
        "               optimizer:torch.optim,\n",
        "               device:torch.device):\n",
        "\n",
        "  X = X.to(device)\n",
        "  y = y.to(device)\n",
        "  model = model.to(device)\n",
        "\n",
        "  #1.forward pass\n",
        "  model.train()\n",
        "  y_hat = model(X)\n",
        "  # print(y)\n",
        "\n",
        "  #2.loss calculation\n",
        "  loss = loss_fn(y_hat,y)\n",
        "\n",
        "  #3.optimizer zero_grad()\n",
        "  optimizer.zero_grad()\n",
        "\n",
        "  #4.loss.backward()\n",
        "  loss.backward()\n",
        "\n",
        "  #5.optimizer step\n",
        "  optimizer.step()\n",
        "\n",
        "  return loss"
      ],
      "metadata": {
        "id": "i7V0dv3hl0RH"
      },
      "execution_count": null,
      "outputs": []
    },
    {
      "cell_type": "code",
      "source": [
        "class LinearRegression(nn.Module):\n",
        "  def __init__(self):\n",
        "    super().__init__()\n",
        "\n",
        "    self.layer = nn.Linear(in_features=2, out_features=1)\n",
        "\n",
        "  def forward(self,x):\n",
        "    return self.layer(x)"
      ],
      "metadata": {
        "id": "PfhIo8eMm6f5"
      },
      "execution_count": null,
      "outputs": []
    },
    {
      "cell_type": "code",
      "source": [
        "torch.manual_seed(42)\n",
        "model = LinearRegression()"
      ],
      "metadata": {
        "id": "PMRPfFY9nT5O"
      },
      "execution_count": null,
      "outputs": []
    },
    {
      "cell_type": "code",
      "source": [
        "loss_fn = nn.MSELoss()\n",
        "\n",
        "optimizer = torch.optim.Adam(\n",
        "    model.parameters(),\n",
        "    lr = 0.1\n",
        ")"
      ],
      "metadata": {
        "id": "O2zYgtignd0P"
      },
      "execution_count": null,
      "outputs": []
    },
    {
      "cell_type": "code",
      "source": [
        "device = \"cuda\" if torch.cuda.is_available() else \"cpu\""
      ],
      "metadata": {
        "id": "cdWJF6-3o7yC"
      },
      "execution_count": null,
      "outputs": []
    },
    {
      "cell_type": "code",
      "source": [
        "epochs = 100\n",
        "\n",
        "for epoch in range(epochs):\n",
        "  train_loss = train_loop(\n",
        "      model=model,\n",
        "      X=X_minmax_norm,\n",
        "      y=y,\n",
        "      loss_fn = loss_fn,\n",
        "      optimizer=optimizer,\n",
        "      device = device\n",
        "  )\n",
        "  if epoch % 10 == 0:\n",
        "    print(f\"Epoch:{epoch} | Loss:{train_loss}\")\n"
      ],
      "metadata": {
        "id": "O1sN-ejfnqyM",
        "colab": {
          "base_uri": "https://localhost:8080/"
        },
        "outputId": "2ed6999a-753c-4618-ea11-c83c026b3cc0"
      },
      "execution_count": null,
      "outputs": [
        {
          "output_type": "stream",
          "name": "stdout",
          "text": [
            "Epoch:0 | Loss:3.7542121410369873\n",
            "Epoch:10 | Loss:1.2975142002105713\n",
            "Epoch:20 | Loss:0.9496739506721497\n",
            "Epoch:30 | Loss:0.6388378739356995\n",
            "Epoch:40 | Loss:0.4722718298435211\n",
            "Epoch:50 | Loss:0.4225962162017822\n",
            "Epoch:60 | Loss:0.4018150269985199\n",
            "Epoch:70 | Loss:0.39471086859703064\n",
            "Epoch:80 | Loss:0.3904346227645874\n",
            "Epoch:90 | Loss:0.38618502020835876\n"
          ]
        }
      ]
    }
  ]
}