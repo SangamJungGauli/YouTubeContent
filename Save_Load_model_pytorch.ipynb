{
  "nbformat": 4,
  "nbformat_minor": 0,
  "metadata": {
    "colab": {
      "provenance": []
    },
    "kernelspec": {
      "name": "python3",
      "display_name": "Python 3"
    },
    "language_info": {
      "name": "python"
    }
  },
  "cells": [
    {
      "cell_type": "code",
      "execution_count": null,
      "metadata": {
        "id": "vJghfzYyPmsc"
      },
      "outputs": [],
      "source": [
        "import torch\n",
        "from torch import nn\n",
        "import matplotlib.pyplot as plt"
      ]
    },
    {
      "cell_type": "code",
      "source": [
        "X = torch.arange(1,21,1).type(torch.float).unsqueeze(1)\n",
        "X.shape, X.dtype, X.device"
      ],
      "metadata": {
        "colab": {
          "base_uri": "https://localhost:8080/"
        },
        "id": "5d8-LRYYQIo7",
        "outputId": "4a692732-bcd6-410d-e313-f7734089bf5f"
      },
      "execution_count": null,
      "outputs": [
        {
          "output_type": "execute_result",
          "data": {
            "text/plain": [
              "(torch.Size([20, 1]), torch.float32, device(type='cpu'))"
            ]
          },
          "metadata": {},
          "execution_count": 70
        }
      ]
    },
    {
      "cell_type": "code",
      "source": [
        "#y = 1.5x+1.5\n",
        "y = torch.add(torch.mul(X,1.5),1.5)\n",
        "y.shape, X.ndim, y.ndim"
      ],
      "metadata": {
        "colab": {
          "base_uri": "https://localhost:8080/"
        },
        "id": "AMzWJ9vMQkHV",
        "outputId": "9df1f3bc-c8a8-4f79-f428-8486bd647d82"
      },
      "execution_count": null,
      "outputs": [
        {
          "output_type": "execute_result",
          "data": {
            "text/plain": [
              "(torch.Size([20, 1]), 2, 2)"
            ]
          },
          "metadata": {},
          "execution_count": 71
        }
      ]
    },
    {
      "cell_type": "code",
      "source": [
        "X_train, X_test = torch.split(X,15)\n",
        "y_train, y_test = torch.split(y, 15)"
      ],
      "metadata": {
        "id": "ZBRHMOpvQ48T"
      },
      "execution_count": null,
      "outputs": []
    },
    {
      "cell_type": "code",
      "source": [
        "def plot_data(train_data=X_train,\n",
        "              train_target=y_train,\n",
        "              test_data=X_test,\n",
        "              test_target=y_test,\n",
        "              prediction=None):\n",
        "  plt.figure(figsize=(10,7))\n",
        "  plt.scatter(train_data, train_target, c='b', s=4, label='Training Data')\n",
        "  plt.scatter(test_data, test_target, c='g', s=4, label='Test Data')\n",
        "  if prediction is not None:\n",
        "    plt.scatter(test_data, prediction, c='r', s=4, label='Predicted Data')\n",
        "  plt.legend(prop={\"size\":14})"
      ],
      "metadata": {
        "id": "2FYWmVGVRj51"
      },
      "execution_count": null,
      "outputs": []
    },
    {
      "cell_type": "code",
      "source": [
        "plot_data()"
      ],
      "metadata": {
        "colab": {
          "base_uri": "https://localhost:8080/",
          "height": 599
        },
        "id": "gpL-B65CScCQ",
        "outputId": "705326d0-b523-44da-a413-e6b04c36534c"
      },
      "execution_count": null,
      "outputs": [
        {
          "output_type": "display_data",
          "data": {
            "text/plain": [
              "<Figure size 1000x700 with 1 Axes>"
            ],
            "image/png": "[encoded data removed]"
          },
          "metadata": {}
        }
      ]
    },
    {
      "cell_type": "markdown",
      "source": [
        "##**Linear Regression Model**"
      ],
      "metadata": {
        "id": "prY_j-3XSb_3"
      }
    },
    {
      "cell_type": "code",
      "source": [
        "class SimpleLinearRegression(nn.Module):\n",
        "  def __init__(self):\n",
        "    super().__init__()\n",
        "\n",
        "    self.layer = nn.Linear(\n",
        "        in_features=1,\n",
        "        out_features=1,\n",
        "        bias=True\n",
        "    )\n",
        "\n",
        "  def forward(self, x):\n",
        "    return self.layer(x)\n"
      ],
      "metadata": {
        "id": "pyN6b6QKSbaD"
      },
      "execution_count": null,
      "outputs": []
    },
    {
      "cell_type": "code",
      "source": [
        "torch.manual_seed(42)\n",
        "model = SimpleLinearRegression()\n",
        "model.state_dict()"
      ],
      "metadata": {
        "colab": {
          "base_uri": "https://localhost:8080/"
        },
        "id": "h3ncFJsLSbP3",
        "outputId": "685b2548-d927-4907-a0c9-98af496e333e"
      },
      "execution_count": null,
      "outputs": [
        {
          "output_type": "execute_result",
          "data": {
            "text/plain": [
              "OrderedDict([('layer.weight', tensor([[0.7645]])),\n",
              "             ('layer.bias', tensor([0.8300]))])"
            ]
          },
          "metadata": {},
          "execution_count": 76
        }
      ]
    },
    {
      "cell_type": "code",
      "source": [
        "model.eval()\n",
        "with torch.inference_mode():\n",
        "  y_before_pred = model(X_test)\n",
        "\n",
        "plot_data(prediction=y_before_pred)"
      ],
      "metadata": {
        "colab": {
          "base_uri": "https://localhost:8080/",
          "height": 599
        },
        "id": "DU0AJIndTlaU",
        "outputId": "0defe706-04b3-4dfd-a53f-c00d5bf46749"
      },
      "execution_count": null,
      "outputs": [
        {
          "output_type": "display_data",
          "data": {
            "text/plain": [
              "<Figure size 1000x700 with 1 Axes>"
            ],
            "image/png": "[encoded data removed]"
          },
          "metadata": {}
        }
      ]
    },
    {
      "cell_type": "code",
      "source": [
        "##Loss & Optimizer\n",
        "#loss\n",
        "loss_fn = nn.MSELoss()\n",
        "\n",
        "#optimizer\n",
        "optimizer = torch.optim.SGD(params=model.parameters(),\n",
        "                           lr=0.001)"
      ],
      "metadata": {
        "id": "VwneP30hToOG"
      },
      "execution_count": null,
      "outputs": []
    },
    {
      "cell_type": "code",
      "source": [
        "#Training Loop\n",
        "\n",
        "epochs=19\n",
        "\n",
        "for epoch in range(1,epochs+1):\n",
        "\n",
        "  #1.forward pass\n",
        "  model.train()\n",
        "  y_hat = model(X_train)\n",
        "\n",
        "  #2. loss calcuate\n",
        "  train_loss = loss_fn(y_hat, y_train)\n",
        "\n",
        "  #3. zerograd\n",
        "  optimizer.zero_grad()\n",
        "  #4. loss backward()\n",
        "  train_loss.backward()\n",
        "  #5. optimizer step\n",
        "  optimizer.step()\n",
        "\n",
        "  model.eval()\n",
        "  with torch.inference_mode():\n",
        "    y_test_pred = model(X_test)\n",
        "    test_loss = loss_fn(y_test_pred, y_test)\n",
        "\n",
        "    print(f\"Epoch:{epoch} | Train_Loss:{train_loss} | Test_Loss:{test_loss}\")"
      ],
      "metadata": {
        "colab": {
          "base_uri": "https://localhost:8080/"
        },
        "id": "MsZj7ylcToTv",
        "outputId": "361c6b51-618f-4956-84c7-fd1f4824900a"
      },
      "execution_count": null,
      "outputs": [
        {
          "output_type": "stream",
          "name": "stdout",
          "text": [
            "Epoch:1 | Train_Loss:53.04763412475586 | Test_Loss:133.2882537841797\n",
            "Epoch:2 | Train_Loss:36.84349060058594 | Test_Loss:91.08572387695312\n",
            "Epoch:3 | Train_Loss:25.596500396728516 | Test_Loss:62.04277420043945\n",
            "Epoch:4 | Train_Loss:17.790172576904297 | Test_Loss:42.091957092285156\n",
            "Epoch:5 | Train_Loss:12.371943473815918 | Test_Loss:28.417129516601562\n",
            "Epoch:6 | Train_Loss:8.611248970031738 | Test_Loss:19.06943702697754\n",
            "Epoch:7 | Train_Loss:6.001004219055176 | Test_Loss:12.701066017150879\n",
            "Epoch:8 | Train_Loss:4.189267158508301 | Test_Loss:8.38056468963623\n",
            "Epoch:9 | Train_Loss:2.931755542755127 | Test_Loss:5.4647722244262695\n",
            "Epoch:10 | Train_Loss:2.05892014503479 | Test_Loss:3.510075807571411\n",
            "Epoch:11 | Train_Loss:1.4530850648880005 | Test_Loss:2.2108776569366455\n",
            "Epoch:12 | Train_Loss:1.0325641632080078 | Test_Loss:1.3570268154144287\n",
            "Epoch:13 | Train_Loss:0.740668535232544 | Test_Loss:0.8042607307434082\n",
            "Epoch:14 | Train_Loss:0.5380478501319885 | Test_Loss:0.4537907540798187\n",
            "Epoch:15 | Train_Loss:0.3973917067050934 | Test_Loss:0.2381715029478073\n",
            "Epoch:16 | Train_Loss:0.2997443974018097 | Test_Loss:0.11151774227619171\n",
            "Epoch:17 | Train_Loss:0.23194830119609833 | Test_Loss:0.042754631489515305\n",
            "Epoch:18 | Train_Loss:0.1848704218864441 | Test_Loss:0.010962913744151592\n",
            "Epoch:19 | Train_Loss:0.15217334032058716 | Test_Loss:0.002157068345695734\n"
          ]
        }
      ]
    },
    {
      "cell_type": "code",
      "source": [
        "model.state_dict()"
      ],
      "metadata": {
        "colab": {
          "base_uri": "https://localhost:8080/"
        },
        "id": "-dbuQVXWWYNR",
        "outputId": "374943f6-34f2-435b-87b0-a8d62219fd64"
      },
      "execution_count": null,
      "outputs": [
        {
          "output_type": "execute_result",
          "data": {
            "text/plain": [
              "OrderedDict([('layer.weight', tensor([[1.5324]])),\n",
              "             ('layer.bias', tensor([0.9096]))])"
            ]
          },
          "metadata": {},
          "execution_count": 80
        }
      ]
    },
    {
      "cell_type": "code",
      "source": [
        "model.eval()\n",
        "with torch.inference_mode():\n",
        "  y_after_pred = model(X_test)\n",
        "\n",
        "plot_data(prediction=y_after_pred)"
      ],
      "metadata": {
        "colab": {
          "base_uri": "https://localhost:8080/",
          "height": 599
        },
        "id": "lIQri74yToYk",
        "outputId": "517f566f-f93d-4537-f8da-f7946e5b8ee0"
      },
      "execution_count": null,
      "outputs": [
        {
          "output_type": "display_data",
          "data": {
            "text/plain": [
              "<Figure size 1000x700 with 1 Axes>"
            ],
            "image/png": "[encoded data removed]"
          },
          "metadata": {}
        }
      ]
    },
    {
      "cell_type": "code",
      "source": [
        "#Save\n",
        "from pathlib import Path\n",
        "\n",
        "directory = Path('model')\n",
        "directory.mkdir(parents=True, exist_ok=True)"
      ],
      "metadata": {
        "id": "Dyp4f_T6UhOh"
      },
      "execution_count": null,
      "outputs": []
    },
    {
      "cell_type": "code",
      "source": [
        "file_name = \"SimpleLinearModel.pt\"\n",
        "file_path = directory/file_name\n",
        "\n",
        "print(\"Model is Saving.....\")\n",
        "torch.save(obj=model.state_dict(), f=file_path)\n",
        "print(\"Model is Saved Successfuly\")"
      ],
      "metadata": {
        "colab": {
          "base_uri": "https://localhost:8080/"
        },
        "id": "JrdLvB2mYNbH",
        "outputId": "59ed2ae1-1fc9-461f-e535-5309101bda85"
      },
      "execution_count": null,
      "outputs": [
        {
          "output_type": "stream",
          "name": "stdout",
          "text": [
            "Model is Saving.....\n",
            "Model is Saved Successfuly\n"
          ]
        }
      ]
    },
    {
      "cell_type": "code",
      "source": [
        "loaded_model = SimpleLinearRegression()\n",
        "loaded_model.load_state_dict(torch.load(file_path))\n",
        "loaded_model.state_dict()"
      ],
      "metadata": {
        "colab": {
          "base_uri": "https://localhost:8080/"
        },
        "id": "nalxS-KbUhMY",
        "outputId": "b7e68308-ed59-47b3-be9c-0f0183b575fa"
      },
      "execution_count": null,
      "outputs": [
        {
          "output_type": "execute_result",
          "data": {
            "text/plain": [
              "OrderedDict([('layer.weight', tensor([[1.5324]])),\n",
              "             ('layer.bias', tensor([0.9096]))])"
            ]
          },
          "metadata": {},
          "execution_count": 84
        }
      ]
    },
    {
      "cell_type": "code",
      "source": [
        "with torch.inference_mode():\n",
        "  y_new_pred = loaded_model(torch.tensor([200.0]).unsqueeze(1))\n",
        "y_new_pred"
      ],
      "metadata": {
        "colab": {
          "base_uri": "https://localhost:8080/"
        },
        "id": "EZ03x-feUhJ8",
        "outputId": "3dad74d5-6eaa-4328-dd2b-07b0bbd9462f"
      },
      "execution_count": null,
      "outputs": [
        {
          "output_type": "execute_result",
          "data": {
            "text/plain": [
              "tensor([[307.3819]])"
            ]
          },
          "metadata": {},
          "execution_count": 86
        }
      ]
    },
    {
      "cell_type": "code",
      "source": [
        "new_file_path = directory/\"new.pth\"\n",
        "torch.save(obj=model, f=new_file_path)"
      ],
      "metadata": {
        "id": "Apml75vIUhHo"
      },
      "execution_count": null,
      "outputs": []
    },
    {
      "cell_type": "code",
      "source": [
        "new_loaded_model = torch.load(new_file_path)"
      ],
      "metadata": {
        "id": "DZYl9ImjUhFE"
      },
      "execution_count": null,
      "outputs": []
    },
    {
      "cell_type": "code",
      "source": [
        "with torch.inference_mode():\n",
        "  y_new_pred = new_loaded_model(torch.tensor([200.0]).unsqueeze(1))\n",
        "y_new_pred"
      ],
      "metadata": {
        "colab": {
          "base_uri": "https://localhost:8080/"
        },
        "id": "GpSohgOlUhCa",
        "outputId": "9de5a43c-6bbc-4c98-b6df-7c232a4b7826"
      },
      "execution_count": null,
      "outputs": [
        {
          "output_type": "execute_result",
          "data": {
            "text/plain": [
              "tensor([[307.3819]])"
            ]
          },
          "metadata": {},
          "execution_count": 89
        }
      ]
    }
  ]
}