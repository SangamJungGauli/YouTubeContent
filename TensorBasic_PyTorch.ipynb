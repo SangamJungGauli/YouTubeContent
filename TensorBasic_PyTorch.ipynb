{
  "nbformat": 4,
  "nbformat_minor": 0,
  "metadata": {
    "colab": {
      "provenance": []
    },
    "kernelspec": {
      "name": "python3",
      "display_name": "Python 3"
    },
    "language_info": {
      "name": "python"
    }
  },
  "cells": [
    {
      "cell_type": "code",
      "execution_count": null,
      "metadata": {
        "colab": {
          "base_uri": "https://localhost:8080/",
          "height": 36
        },
        "id": "yNSysv8zbERO",
        "outputId": "71778b4d-f8b0-4a77-ce83-16aec9ae9b82"
      },
      "outputs": [
        {
          "output_type": "execute_result",
          "data": {
            "text/plain": [
              "'2.3.0+cu121'"
            ],
            "application/vnd.google.colaboratory.intrinsic+json": {
              "type": "string"
            }
          },
          "metadata": {},
          "execution_count": 1
        }
      ],
      "source": [
        "import torch\n",
        "torch.__version__"
      ]
    },
    {
      "cell_type": "markdown",
      "source": [
        "# **1. Three Types of Data**\n",
        "**1. Scalar Data**\n",
        "\n",
        "**2. Vector Data**\n",
        "\n",
        "**3. Matrix Data**"
      ],
      "metadata": {
        "id": "lXrBrAMAbreT"
      }
    },
    {
      "cell_type": "markdown",
      "source": [
        "## **1.1 Scalar Data**"
      ],
      "metadata": {
        "id": "BeonwwANcPSN"
      }
    },
    {
      "cell_type": "code",
      "source": [
        "scalar_data = torch.tensor(5)\n",
        "print(f\"tensor:{scalar_data}, item:{scalar_data.item()}\")"
      ],
      "metadata": {
        "colab": {
          "base_uri": "https://localhost:8080/"
        },
        "id": "W6H7zgINcXZz",
        "outputId": "81488fc2-4749-4112-caad-bcb14687b715"
      },
      "execution_count": null,
      "outputs": [
        {
          "output_type": "stream",
          "name": "stdout",
          "text": [
            "tensor:5, item:5\n"
          ]
        }
      ]
    },
    {
      "cell_type": "code",
      "source": [
        "print(f\"Dimension of scalar data is: {scalar_data.ndim}\")\n",
        "print(f\"Shape: {scalar_data.shape}\")"
      ],
      "metadata": {
        "colab": {
          "base_uri": "https://localhost:8080/"
        },
        "id": "najTp0mNc0fg",
        "outputId": "1dce4372-2966-4037-ad1c-3c44e15dd70a"
      },
      "execution_count": null,
      "outputs": [
        {
          "output_type": "stream",
          "name": "stdout",
          "text": [
            "Dimension of scalar data is: 0\n",
            "Shape: torch.Size([])\n"
          ]
        }
      ]
    },
    {
      "cell_type": "markdown",
      "source": [
        "## **1.2 Vector Data**"
      ],
      "metadata": {
        "id": "s2A3bkpfdIdR"
      }
    },
    {
      "cell_type": "code",
      "source": [
        "vector_data = torch.tensor([1,2])\n",
        "print(f\"tensor:{vector_data}\")\n",
        "print(f\"Dimension of vector_data:{vector_data.ndim}\")"
      ],
      "metadata": {
        "colab": {
          "base_uri": "https://localhost:8080/"
        },
        "id": "VW5C8Q9sdMCo",
        "outputId": "1dbea50b-4e49-425b-c393-21b637f0c174"
      },
      "execution_count": null,
      "outputs": [
        {
          "output_type": "stream",
          "name": "stdout",
          "text": [
            "tensor:tensor([1, 2])\n",
            "Dimension of vector_data:1\n"
          ]
        }
      ]
    },
    {
      "cell_type": "markdown",
      "source": [
        "##**1.3 Matrix Data**"
      ],
      "metadata": {
        "id": "a44nz0Fcd-Jz"
      }
    },
    {
      "cell_type": "code",
      "source": [
        "matrix = torch.tensor([[1,2,3],[4,5,6]])\n",
        "print(f\"Tensor:{matrix}\")\n",
        "print(f\"Dimension of Matrix:{matrix.ndim}\")\n",
        "print(f\"Shape:{matrix.shape}\")"
      ],
      "metadata": {
        "colab": {
          "base_uri": "https://localhost:8080/"
        },
        "id": "XJ4tGlhleBWY",
        "outputId": "177994a7-5fb0-4dd6-9f5d-71499e45d03e"
      },
      "execution_count": null,
      "outputs": [
        {
          "output_type": "stream",
          "name": "stdout",
          "text": [
            "Tensor:tensor([[1, 2, 3],\n",
            "        [4, 5, 6]])\n",
            "Dimension of Matrix:2\n",
            "Shape:torch.Size([2, 3])\n"
          ]
        }
      ]
    },
    {
      "cell_type": "code",
      "source": [
        "x = torch.tensor(5.1)\n",
        "x.dtype, x.device"
      ],
      "metadata": {
        "colab": {
          "base_uri": "https://localhost:8080/"
        },
        "id": "rpIlVfNTepbO",
        "outputId": "597f01c6-7f21-442c-e69b-61ba8db3cb6e"
      },
      "execution_count": null,
      "outputs": [
        {
          "output_type": "execute_result",
          "data": {
            "text/plain": [
              "(torch.float32, device(type='cpu'))"
            ]
          },
          "metadata": {},
          "execution_count": 6
        }
      ]
    },
    {
      "cell_type": "markdown",
      "source": [
        "# **2. Creation of Tensor**"
      ],
      "metadata": {
        "id": "Tc-YBJ54fPYi"
      }
    },
    {
      "cell_type": "markdown",
      "source": [
        "## **2.1 Random & Range Tensor**"
      ],
      "metadata": {
        "id": "0lwP9lS5fTSU"
      }
    },
    {
      "cell_type": "markdown",
      "source": [
        "### **`torch.rand()`**"
      ],
      "metadata": {
        "id": "91mmY_OQfiMT"
      }
    },
    {
      "cell_type": "code",
      "source": [
        "x = torch.rand(5)\n",
        "x"
      ],
      "metadata": {
        "colab": {
          "base_uri": "https://localhost:8080/"
        },
        "id": "5oGEdjsEfm00",
        "outputId": "df3de104-6bc5-40e9-e080-aa336be21c15"
      },
      "execution_count": null,
      "outputs": [
        {
          "output_type": "execute_result",
          "data": {
            "text/plain": [
              "tensor([0.8157, 0.9287, 0.5438, 0.0244, 0.4142])"
            ]
          },
          "metadata": {},
          "execution_count": 7
        }
      ]
    },
    {
      "cell_type": "markdown",
      "source": [
        "###**`torch.randn()`**"
      ],
      "metadata": {
        "id": "dwETaXC3gGQ4"
      }
    },
    {
      "cell_type": "code",
      "source": [
        "x = torch.randn(5)\n",
        "x"
      ],
      "metadata": {
        "colab": {
          "base_uri": "https://localhost:8080/"
        },
        "id": "sJYPTv16foUH",
        "outputId": "9b3c9cd9-821a-4de8-87e9-625f22ce0f70"
      },
      "execution_count": null,
      "outputs": [
        {
          "output_type": "execute_result",
          "data": {
            "text/plain": [
              "tensor([ 1.6947, -0.7933, -0.1532, -0.6467, -1.0131])"
            ]
          },
          "metadata": {},
          "execution_count": 8
        }
      ]
    },
    {
      "cell_type": "markdown",
      "source": [
        "###**`torch.range()`**\n",
        "`torch.range()` will be depricated so better to use `torch.arange()`."
      ],
      "metadata": {
        "id": "7SiZZxUffovd"
      }
    },
    {
      "cell_type": "code",
      "source": [
        "x = torch.range(1,5,1)\n",
        "x"
      ],
      "metadata": {
        "colab": {
          "base_uri": "https://localhost:8080/"
        },
        "id": "Gxlo_TXSfpCH",
        "outputId": "1c6f1e6a-6335-4741-8d66-440d7ee0825b"
      },
      "execution_count": null,
      "outputs": [
        {
          "output_type": "stream",
          "name": "stderr",
          "text": [
            "<ipython-input-9-98f55cd48a0c>:1: UserWarning: torch.range is deprecated and will be removed in a future release because its behavior is inconsistent with Python's range builtin. Instead, use torch.arange, which produces values in [start, end).\n",
            "  x = torch.range(1,5,1)\n"
          ]
        },
        {
          "output_type": "execute_result",
          "data": {
            "text/plain": [
              "tensor([1., 2., 3., 4., 5.])"
            ]
          },
          "metadata": {},
          "execution_count": 9
        }
      ]
    },
    {
      "cell_type": "markdown",
      "source": [
        "###**`torch.arange()`**\n",
        "torchh.arange(start, end, step)"
      ],
      "metadata": {
        "id": "fo-85Clxg7uT"
      }
    },
    {
      "cell_type": "code",
      "source": [
        "x = torch.arange(0,6,1)\n",
        "x"
      ],
      "metadata": {
        "colab": {
          "base_uri": "https://localhost:8080/"
        },
        "id": "OE-b8l5QhFQh",
        "outputId": "8fd1c326-78d1-4a6a-d1c3-8a05425ef48c"
      },
      "execution_count": null,
      "outputs": [
        {
          "output_type": "execute_result",
          "data": {
            "text/plain": [
              "tensor([0, 1, 2, 3, 4, 5])"
            ]
          },
          "metadata": {},
          "execution_count": 10
        }
      ]
    },
    {
      "cell_type": "markdown",
      "source": [
        "## **2.2 Zeros and Ones**"
      ],
      "metadata": {
        "id": "tCF30UIDhW6p"
      }
    },
    {
      "cell_type": "markdown",
      "source": [
        "###**`torch.zeros()`**"
      ],
      "metadata": {
        "id": "t8vcPi6xhWnc"
      }
    },
    {
      "cell_type": "code",
      "source": [
        "zeros_tensor = torch.zeros(5)\n",
        "zeros_tensor"
      ],
      "metadata": {
        "colab": {
          "base_uri": "https://localhost:8080/"
        },
        "id": "Z7G1sC_chmcB",
        "outputId": "1da1328a-7473-479f-91f4-c7b034dac4d1"
      },
      "execution_count": null,
      "outputs": [
        {
          "output_type": "execute_result",
          "data": {
            "text/plain": [
              "tensor([0., 0., 0., 0., 0.])"
            ]
          },
          "metadata": {},
          "execution_count": 11
        }
      ]
    },
    {
      "cell_type": "markdown",
      "source": [
        "###**`torch.ones()`**"
      ],
      "metadata": {
        "id": "vwrQTdgXhxHE"
      }
    },
    {
      "cell_type": "code",
      "source": [
        "ones_tensor = torch.ones(5)\n",
        "ones_tensor"
      ],
      "metadata": {
        "colab": {
          "base_uri": "https://localhost:8080/"
        },
        "id": "hv-CftVLh09A",
        "outputId": "ac4ea7fa-3cb4-42b0-8278-de8e8cb276c6"
      },
      "execution_count": null,
      "outputs": [
        {
          "output_type": "execute_result",
          "data": {
            "text/plain": [
              "tensor([1., 1., 1., 1., 1.])"
            ]
          },
          "metadata": {},
          "execution_count": 12
        }
      ]
    },
    {
      "cell_type": "markdown",
      "source": [
        "# **3. Seed (Reproducibility)**"
      ],
      "metadata": {
        "id": "vfVMnvaMh-xb"
      }
    },
    {
      "cell_type": "code",
      "source": [
        "torch.manual_seed(42)\n",
        "x = torch.randn(1)\n",
        "x"
      ],
      "metadata": {
        "colab": {
          "base_uri": "https://localhost:8080/"
        },
        "id": "QCzdXLv_iGUr",
        "outputId": "08b645a1-8ff2-4ae3-b446-0cfff9dacd58"
      },
      "execution_count": null,
      "outputs": [
        {
          "output_type": "execute_result",
          "data": {
            "text/plain": [
              "tensor([0.3367])"
            ]
          },
          "metadata": {},
          "execution_count": 13
        }
      ]
    },
    {
      "cell_type": "markdown",
      "source": [
        "# **4. Datatype, Device**"
      ],
      "metadata": {
        "id": "6uyEctnHi-S2"
      }
    },
    {
      "cell_type": "code",
      "source": [
        "x = torch.tensor(1.0)\n",
        "print(f\"Datatype:{x.dtype}, device={x.device}\")"
      ],
      "metadata": {
        "colab": {
          "base_uri": "https://localhost:8080/"
        },
        "id": "Gj_fjKedjEZP",
        "outputId": "627838a9-1f4b-4a5a-c5c9-25b401b4bb9a"
      },
      "execution_count": null,
      "outputs": [
        {
          "output_type": "stream",
          "name": "stdout",
          "text": [
            "Datatype:torch.float32, device=cpu\n"
          ]
        }
      ]
    },
    {
      "cell_type": "code",
      "source": [
        "device = \"cuda\" if torch.cuda.is_available() else \"cpu\"\n",
        "device"
      ],
      "metadata": {
        "colab": {
          "base_uri": "https://localhost:8080/",
          "height": 36
        },
        "id": "ENlMXaNgjcM7",
        "outputId": "d2794e93-15dc-42ad-d89d-e003e6ab6ae7"
      },
      "execution_count": null,
      "outputs": [
        {
          "output_type": "execute_result",
          "data": {
            "text/plain": [
              "'cpu'"
            ],
            "application/vnd.google.colaboratory.intrinsic+json": {
              "type": "string"
            }
          },
          "metadata": {},
          "execution_count": 15
        }
      ]
    },
    {
      "cell_type": "markdown",
      "source": [
        "## **`torch.tensor.to()`**"
      ],
      "metadata": {
        "id": "B_g69fcvkIpr"
      }
    },
    {
      "cell_type": "code",
      "source": [
        "y = x.to(dtype=torch.int32)\n",
        "y.dtype"
      ],
      "metadata": {
        "colab": {
          "base_uri": "https://localhost:8080/"
        },
        "id": "z5q054bKkNq6",
        "outputId": "31c2676c-cfa7-45f1-e922-120fb777f31c"
      },
      "execution_count": null,
      "outputs": [
        {
          "output_type": "execute_result",
          "data": {
            "text/plain": [
              "torch.int32"
            ]
          },
          "metadata": {},
          "execution_count": 16
        }
      ]
    },
    {
      "cell_type": "code",
      "source": [
        "z = x.type(torch.int32)\n",
        "z.dtype"
      ],
      "metadata": {
        "colab": {
          "base_uri": "https://localhost:8080/"
        },
        "id": "DOA7PLiMkf2O",
        "outputId": "4d078090-7f50-4b58-9eda-e1cccb8e6624"
      },
      "execution_count": null,
      "outputs": [
        {
          "output_type": "execute_result",
          "data": {
            "text/plain": [
              "torch.int32"
            ]
          },
          "metadata": {},
          "execution_count": 17
        }
      ]
    },
    {
      "cell_type": "markdown",
      "source": [
        "# **5. Basic Operations**"
      ],
      "metadata": {
        "id": "HjJcDGNRkxW3"
      }
    },
    {
      "cell_type": "markdown",
      "source": [
        "##**5.1 Addition**"
      ],
      "metadata": {
        "id": "O1T3SmGTkxUs"
      }
    },
    {
      "cell_type": "code",
      "source": [
        "torch.manual_seed(42)\n",
        "x = torch.rand(5)\n",
        "x,x + 5"
      ],
      "metadata": {
        "colab": {
          "base_uri": "https://localhost:8080/"
        },
        "id": "dftLyvhikxSB",
        "outputId": "c388e9da-2d0d-4cdf-838b-dc67334845d1"
      },
      "execution_count": null,
      "outputs": [
        {
          "output_type": "execute_result",
          "data": {
            "text/plain": [
              "(tensor([0.8823, 0.9150, 0.3829, 0.9593, 0.3904]),\n",
              " tensor([5.8823, 5.9150, 5.3829, 5.9593, 5.3904]))"
            ]
          },
          "metadata": {},
          "execution_count": 28
        }
      ]
    },
    {
      "cell_type": "markdown",
      "source": [
        "`torch.add()`"
      ],
      "metadata": {
        "id": "-x_bER_KmHQy"
      }
    },
    {
      "cell_type": "code",
      "source": [
        "torch.manual_seed(42)\n",
        "x=torch.rand(5)\n",
        "torch.add(x,5)"
      ],
      "metadata": {
        "colab": {
          "base_uri": "https://localhost:8080/"
        },
        "id": "tGnzOMlrkxPp",
        "outputId": "60cf29fc-01c6-4cc5-d423-8e7f654c05c0"
      },
      "execution_count": null,
      "outputs": [
        {
          "output_type": "execute_result",
          "data": {
            "text/plain": [
              "tensor([5.8823, 5.9150, 5.3829, 5.9593, 5.3904])"
            ]
          },
          "metadata": {},
          "execution_count": 29
        }
      ]
    },
    {
      "cell_type": "code",
      "source": [
        "## **5.2 Subtraction**"
      ],
      "metadata": {
        "id": "Kv7ZsDDukxKi"
      },
      "execution_count": null,
      "outputs": []
    },
    {
      "cell_type": "code",
      "source": [
        "torch.manual_seed(42)\n",
        "x = torch.rand(5)\n",
        "5-x"
      ],
      "metadata": {
        "colab": {
          "base_uri": "https://localhost:8080/"
        },
        "id": "unmQ4Sq8kxHx",
        "outputId": "f21c506e-86fb-4480-ca97-18d4ed48b645"
      },
      "execution_count": null,
      "outputs": [
        {
          "output_type": "execute_result",
          "data": {
            "text/plain": [
              "tensor([4.1177, 4.0850, 4.6171, 4.0407, 4.6096])"
            ]
          },
          "metadata": {},
          "execution_count": 31
        }
      ]
    },
    {
      "cell_type": "markdown",
      "source": [
        "`torch.sub()`"
      ],
      "metadata": {
        "id": "wpn8FvjvmJ_u"
      }
    },
    {
      "cell_type": "code",
      "source": [
        "torch.manual_seed(42)\n",
        "x = torch.rand(5)\n",
        "torch.sub(5,x)"
      ],
      "metadata": {
        "colab": {
          "base_uri": "https://localhost:8080/"
        },
        "id": "4kSnXdpJlr8d",
        "outputId": "e4d7075c-06eb-4e48-9e4e-f68551043b0d"
      },
      "execution_count": null,
      "outputs": [
        {
          "output_type": "execute_result",
          "data": {
            "text/plain": [
              "tensor([4.1177, 4.0850, 4.6171, 4.0407, 4.6096])"
            ]
          },
          "metadata": {},
          "execution_count": 32
        }
      ]
    },
    {
      "cell_type": "markdown",
      "source": [
        "##**5.3 Multiplicaiton**"
      ],
      "metadata": {
        "id": "7maCfiHzlr6M"
      }
    },
    {
      "cell_type": "code",
      "source": [
        "torch.manual_seed(42)\n",
        "x = torch.rand(5)\n",
        "x * 5"
      ],
      "metadata": {
        "colab": {
          "base_uri": "https://localhost:8080/"
        },
        "id": "_K72lpRvlr3x",
        "outputId": "4f250056-8ee2-43de-fd75-a52544be3532"
      },
      "execution_count": null,
      "outputs": [
        {
          "output_type": "execute_result",
          "data": {
            "text/plain": [
              "tensor([4.4113, 4.5750, 1.9143, 4.7965, 1.9522])"
            ]
          },
          "metadata": {},
          "execution_count": 33
        }
      ]
    },
    {
      "cell_type": "markdown",
      "source": [
        "`torch.mul()`"
      ],
      "metadata": {
        "id": "2f9ss7vjmMXt"
      }
    },
    {
      "cell_type": "code",
      "source": [
        "torch.manual_seed(42)\n",
        "x = torch.rand(5)\n",
        "torch.mul(x,5)"
      ],
      "metadata": {
        "colab": {
          "base_uri": "https://localhost:8080/"
        },
        "id": "6iZJvoj4lr1l",
        "outputId": "dd3c9529-5300-45e7-d166-b949d512d071"
      },
      "execution_count": null,
      "outputs": [
        {
          "output_type": "execute_result",
          "data": {
            "text/plain": [
              "tensor([4.4113, 4.5750, 1.9143, 4.7965, 1.9522])"
            ]
          },
          "metadata": {},
          "execution_count": 34
        }
      ]
    },
    {
      "cell_type": "markdown",
      "source": [
        "##**5.4 Division**"
      ],
      "metadata": {
        "id": "fWcdmNEFmUS5"
      }
    },
    {
      "cell_type": "code",
      "source": [
        "torch.manual_seed(42)\n",
        "x = torch.rand(5)\n",
        "5/x"
      ],
      "metadata": {
        "colab": {
          "base_uri": "https://localhost:8080/"
        },
        "id": "5JaucIUwlry_",
        "outputId": "15703dc5-4d8f-43a6-8d60-5dec2c6ed9c8"
      },
      "execution_count": null,
      "outputs": [
        {
          "output_type": "execute_result",
          "data": {
            "text/plain": [
              "tensor([ 5.6672,  5.4645, 13.0595,  5.2121, 12.8058])"
            ]
          },
          "metadata": {},
          "execution_count": 35
        }
      ]
    },
    {
      "cell_type": "markdown",
      "source": [
        "`torch.div()`"
      ],
      "metadata": {
        "id": "szPK5-hKmawq"
      }
    },
    {
      "cell_type": "code",
      "source": [
        "torch.manual_seed(42)\n",
        "x = torch.rand(5)\n",
        "torch.div(5,x)"
      ],
      "metadata": {
        "colab": {
          "base_uri": "https://localhost:8080/"
        },
        "id": "0Sns4gi1lrwV",
        "outputId": "a3c25dcf-3d47-4278-94d6-4502da11be67"
      },
      "execution_count": null,
      "outputs": [
        {
          "output_type": "execute_result",
          "data": {
            "text/plain": [
              "tensor([ 5.6672,  5.4645, 13.0595,  5.2121, 12.8058])"
            ]
          },
          "metadata": {},
          "execution_count": 36
        }
      ]
    },
    {
      "cell_type": "markdown",
      "source": [
        "##**5.5 Matrix Multiplicaiton**\n",
        "For matrix multiplication, the shape of two matrix must be compatible i.e. for matrix A & B the outer shape of A must be equal to inner shape of matrix B"
      ],
      "metadata": {
        "id": "ZqUpZA_NmikN"
      }
    },
    {
      "cell_type": "code",
      "source": [
        "torch.manual_seed(42)\n",
        "A = torch.rand(size=(2,3))\n",
        "A, A.shape"
      ],
      "metadata": {
        "colab": {
          "base_uri": "https://localhost:8080/"
        },
        "id": "YHeWvZwnmo77",
        "outputId": "bfb0fc95-4d62-40cc-8fd5-efded1b0a074"
      },
      "execution_count": null,
      "outputs": [
        {
          "output_type": "execute_result",
          "data": {
            "text/plain": [
              "(tensor([[0.8823, 0.9150, 0.3829],\n",
              "         [0.9593, 0.3904, 0.6009]]),\n",
              " torch.Size([2, 3]))"
            ]
          },
          "metadata": {},
          "execution_count": 43
        }
      ]
    },
    {
      "cell_type": "code",
      "source": [
        "torch.manual_seed(42)\n",
        "B = torch.rand(3,4)\n",
        "B, B.shape"
      ],
      "metadata": {
        "colab": {
          "base_uri": "https://localhost:8080/"
        },
        "id": "kGXo2EoBm5Op",
        "outputId": "5fdcc2ef-c8fa-4455-9c9b-49aa8e837018"
      },
      "execution_count": null,
      "outputs": [
        {
          "output_type": "execute_result",
          "data": {
            "text/plain": [
              "(tensor([[0.8823, 0.9150, 0.3829, 0.9593],\n",
              "         [0.3904, 0.6009, 0.2566, 0.7936],\n",
              "         [0.9408, 0.1332, 0.9346, 0.5936]]),\n",
              " torch.Size([3, 4]))"
            ]
          },
          "metadata": {},
          "execution_count": 44
        }
      ]
    },
    {
      "cell_type": "code",
      "source": [
        "import time"
      ],
      "metadata": {
        "id": "mpqZgWxMoZBG"
      },
      "execution_count": null,
      "outputs": []
    },
    {
      "cell_type": "code",
      "source": [
        "%%time\n",
        "C = A @ B\n",
        "C"
      ],
      "metadata": {
        "colab": {
          "base_uri": "https://localhost:8080/"
        },
        "id": "meFDD73wnHzV",
        "outputId": "7139dfd4-5cff-4bb6-ec57-e9b14f0a71f3"
      },
      "execution_count": null,
      "outputs": [
        {
          "output_type": "stream",
          "name": "stdout",
          "text": [
            "CPU times: user 1.13 ms, sys: 7 µs, total: 1.14 ms\n",
            "Wall time: 793 µs\n"
          ]
        },
        {
          "output_type": "execute_result",
          "data": {
            "text/plain": [
              "tensor([[1.4958, 1.4081, 0.9304, 1.7998],\n",
              "        [1.5641, 1.1924, 1.0291, 1.5868]])"
            ]
          },
          "metadata": {},
          "execution_count": 50
        }
      ]
    },
    {
      "cell_type": "markdown",
      "source": [
        "`torch.matmul()`"
      ],
      "metadata": {
        "id": "6IWJInFooLfV"
      }
    },
    {
      "cell_type": "code",
      "source": [
        "%%time\n",
        "C = torch.matmul(A,B)\n",
        "C"
      ],
      "metadata": {
        "colab": {
          "base_uri": "https://localhost:8080/"
        },
        "id": "dxWukS_VoQRl",
        "outputId": "78d3b5f6-6fe7-404a-b514-1429801891b3"
      },
      "execution_count": null,
      "outputs": [
        {
          "output_type": "stream",
          "name": "stdout",
          "text": [
            "CPU times: user 164 µs, sys: 8 µs, total: 172 µs\n",
            "Wall time: 179 µs\n"
          ]
        },
        {
          "output_type": "execute_result",
          "data": {
            "text/plain": [
              "tensor([[1.4958, 1.4081, 0.9304, 1.7998],\n",
              "        [1.5641, 1.1924, 1.0291, 1.5868]])"
            ]
          },
          "metadata": {},
          "execution_count": 51
        }
      ]
    },
    {
      "cell_type": "markdown",
      "source": [
        "# **6. Statistical Operations**"
      ],
      "metadata": {
        "id": "dCFX5ZAboRIY"
      }
    },
    {
      "cell_type": "markdown",
      "source": [
        "## **6.1 MIN/MAX/MEAN/SUM**"
      ],
      "metadata": {
        "id": "3PINSlrQoRFo"
      }
    },
    {
      "cell_type": "code",
      "source": [
        "x = torch.arange(10,150,10)\n",
        "x"
      ],
      "metadata": {
        "colab": {
          "base_uri": "https://localhost:8080/"
        },
        "id": "V0ROSvdmoRBP",
        "outputId": "18391855-7cef-4f60-97a5-a1155dd83fbb"
      },
      "execution_count": null,
      "outputs": [
        {
          "output_type": "execute_result",
          "data": {
            "text/plain": [
              "tensor([ 10,  20,  30,  40,  50,  60,  70,  80,  90, 100, 110, 120, 130, 140])"
            ]
          },
          "metadata": {},
          "execution_count": 52
        }
      ]
    },
    {
      "cell_type": "code",
      "source": [
        "print(f\"Minimum: {x.min()}\")\n",
        "print(f\"Maximum: {x.max()}\")\n",
        "print(f\"MEAN: {x.type(torch.float).mean()}\")\n",
        "print(f\"sum:{x.sum()}\")"
      ],
      "metadata": {
        "colab": {
          "base_uri": "https://localhost:8080/"
        },
        "id": "4rcD_iERoQ-3",
        "outputId": "a3b5ac5a-b9f0-470a-9707-80fcb6b73605"
      },
      "execution_count": null,
      "outputs": [
        {
          "output_type": "stream",
          "name": "stdout",
          "text": [
            "Minimum: 10\n",
            "Maximum: 140\n",
            "MEAN: 75.0\n",
            "sum:1050\n"
          ]
        }
      ]
    },
    {
      "cell_type": "markdown",
      "source": [
        "##**6.2 Positional MIN/MAX**"
      ],
      "metadata": {
        "id": "Zju0LAlpoQ8x"
      }
    },
    {
      "cell_type": "code",
      "source": [
        "print(f\"position/index of manimum data:{x.argmin()}\")\n",
        "print(f\"position/index of maximum data:{x.argmax()}\")"
      ],
      "metadata": {
        "colab": {
          "base_uri": "https://localhost:8080/"
        },
        "id": "JbhunJ7doQ6U",
        "outputId": "42dcee3c-60ee-4bdb-b49e-f4adeb001008"
      },
      "execution_count": null,
      "outputs": [
        {
          "output_type": "stream",
          "name": "stdout",
          "text": [
            "position/index of manimum data:0\n",
            "position/index of maximum data:13\n"
          ]
        }
      ]
    },
    {
      "cell_type": "markdown",
      "source": [
        "# **7. Different Useful Operations**"
      ],
      "metadata": {
        "id": "a_iiQPNxr1lu"
      }
    },
    {
      "cell_type": "markdown",
      "source": [
        "## **7.1 `torch.reshape()`**"
      ],
      "metadata": {
        "id": "Q-UmSCL-r2rx"
      }
    },
    {
      "cell_type": "code",
      "source": [
        "x = torch.arange(1,10,1)\n",
        "x, x.shape, x.reshape(1,1,1,1,1,1,3,3)"
      ],
      "metadata": {
        "colab": {
          "base_uri": "https://localhost:8080/"
        },
        "id": "sFmLB68Cr2pV",
        "outputId": "8503bdcc-22e1-47ae-b822-f760d45a6958"
      },
      "execution_count": null,
      "outputs": [
        {
          "output_type": "execute_result",
          "data": {
            "text/plain": [
              "(tensor([1, 2, 3, 4, 5, 6, 7, 8, 9]),\n",
              " torch.Size([9]),\n",
              " tensor([[[[[[[[1, 2, 3],\n",
              "               [4, 5, 6],\n",
              "               [7, 8, 9]]]]]]]]))"
            ]
          },
          "metadata": {},
          "execution_count": 72
        }
      ]
    },
    {
      "cell_type": "markdown",
      "source": [
        "##**7.2 `torch.squeeze()`**"
      ],
      "metadata": {
        "id": "3eNeqoL4r2no"
      }
    },
    {
      "cell_type": "code",
      "source": [
        "y = x.reshape(1,3,3)\n",
        "z = y.squeeze(dim=0)\n",
        "y.shape, z.shape, z"
      ],
      "metadata": {
        "colab": {
          "base_uri": "https://localhost:8080/"
        },
        "id": "pi99EYwvr2k7",
        "outputId": "f3cd874f-0e73-4119-b934-4b424a5c5289"
      },
      "execution_count": null,
      "outputs": [
        {
          "output_type": "execute_result",
          "data": {
            "text/plain": [
              "(torch.Size([1, 3, 3]),\n",
              " torch.Size([3, 3]),\n",
              " tensor([[1, 2, 3],\n",
              "         [4, 5, 6],\n",
              "         [7, 8, 9]]))"
            ]
          },
          "metadata": {},
          "execution_count": 83
        }
      ]
    },
    {
      "cell_type": "markdown",
      "source": [
        "## **7.3 `torch.unsqueeze()`**"
      ],
      "metadata": {
        "id": "NY7cqbmYr2iF"
      }
    },
    {
      "cell_type": "code",
      "source": [
        "a = z.unsqueeze(dim=0)\n",
        "a, a.shape"
      ],
      "metadata": {
        "colab": {
          "base_uri": "https://localhost:8080/"
        },
        "id": "yPM4AVORuoj1",
        "outputId": "06913f6c-b4bf-462b-ef2a-793a13e3b1a3"
      },
      "execution_count": null,
      "outputs": [
        {
          "output_type": "execute_result",
          "data": {
            "text/plain": [
              "(tensor([[[1, 2, 3],\n",
              "          [4, 5, 6],\n",
              "          [7, 8, 9]]]),\n",
              " torch.Size([1, 3, 3]))"
            ]
          },
          "metadata": {},
          "execution_count": 84
        }
      ]
    },
    {
      "cell_type": "markdown",
      "source": [
        "## **`torch.permute()`**"
      ],
      "metadata": {
        "id": "_1ApNG97vEca"
      }
    },
    {
      "cell_type": "code",
      "source": [
        "x = torch.rand(1,2,3)\n",
        "x, x.shape"
      ],
      "metadata": {
        "colab": {
          "base_uri": "https://localhost:8080/"
        },
        "id": "qa-WhZ2dvIa2",
        "outputId": "b99898b9-83b3-4cd8-92d9-1105c33f48e2"
      },
      "execution_count": null,
      "outputs": [
        {
          "output_type": "execute_result",
          "data": {
            "text/plain": [
              "(tensor([[[0.5779, 0.9040, 0.5547],\n",
              "          [0.3423, 0.6343, 0.3644]]]),\n",
              " torch.Size([1, 2, 3]))"
            ]
          },
          "metadata": {},
          "execution_count": 86
        }
      ]
    },
    {
      "cell_type": "code",
      "source": [
        "y = x.permute(1,2,0)\n",
        "x.shape, y.shape, y"
      ],
      "metadata": {
        "colab": {
          "base_uri": "https://localhost:8080/"
        },
        "id": "3LYY3K5QvIYo",
        "outputId": "eb48e2de-66de-437e-af54-081ff9af8839"
      },
      "execution_count": null,
      "outputs": [
        {
          "output_type": "execute_result",
          "data": {
            "text/plain": [
              "(torch.Size([1, 2, 3]),\n",
              " torch.Size([2, 3, 1]),\n",
              " tensor([[[0.5779],\n",
              "          [0.9040],\n",
              "          [0.5547]],\n",
              " \n",
              "         [[0.3423],\n",
              "          [0.6343],\n",
              "          [0.3644]]]))"
            ]
          },
          "metadata": {},
          "execution_count": 89
        }
      ]
    },
    {
      "cell_type": "markdown",
      "source": [
        "# **8. PyTorch and Numpy**"
      ],
      "metadata": {
        "id": "EsZF8kiLvIWM"
      }
    },
    {
      "cell_type": "code",
      "source": [
        "import numpy as np\n",
        "\n",
        "a = np.arange(1,5,1)\n",
        "a"
      ],
      "metadata": {
        "colab": {
          "base_uri": "https://localhost:8080/"
        },
        "id": "2L6YBLIuvITk",
        "outputId": "946ccd31-a5fc-4215-e77a-6e96a93d4320"
      },
      "execution_count": null,
      "outputs": [
        {
          "output_type": "execute_result",
          "data": {
            "text/plain": [
              "array([1, 2, 3, 4])"
            ]
          },
          "metadata": {},
          "execution_count": 90
        }
      ]
    },
    {
      "cell_type": "markdown",
      "source": [
        "##`torch.from_numpy()`"
      ],
      "metadata": {
        "id": "8qaIUORDv_dX"
      }
    },
    {
      "cell_type": "code",
      "source": [
        "z = torch.from_numpy(a)\n",
        "z"
      ],
      "metadata": {
        "colab": {
          "base_uri": "https://localhost:8080/"
        },
        "id": "Ljqn6-v-wK8I",
        "outputId": "f08a08aa-a971-4887-9bab-ddb3ccf4f183"
      },
      "execution_count": null,
      "outputs": [
        {
          "output_type": "execute_result",
          "data": {
            "text/plain": [
              "tensor([1, 2, 3, 4])"
            ]
          },
          "metadata": {},
          "execution_count": 91
        }
      ]
    },
    {
      "cell_type": "code",
      "source": [],
      "metadata": {
        "id": "BX_GewX2wK5f"
      },
      "execution_count": null,
      "outputs": []
    }
  ]
}