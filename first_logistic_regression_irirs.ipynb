{
  "nbformat": 4,
  "nbformat_minor": 0,
  "metadata": {
    "colab": {
      "provenance": []
    },
    "kernelspec": {
      "name": "python3",
      "display_name": "Python 3"
    },
    "language_info": {
      "name": "python"
    }
  },
  "cells": [
    {
      "cell_type": "markdown",
      "source": [
        "# **Cotents**\n",
        "**1.Data Preparation**\n",
        "\n",
        "**2. Model Preparation**\n",
        "\n",
        "**3. Initial Data Visualization**\n",
        "\n",
        "**4. Model Training**\n",
        "\n",
        "**5. Post Data Visualization**"
      ],
      "metadata": {
        "id": "o9uvDCP8fjZh"
      }
    },
    {
      "cell_type": "code",
      "source": [
        "import torch\n",
        "from torch import nn\n",
        "import matplotlib.pyplot as plt"
      ],
      "metadata": {
        "id": "xF9rGmiifpn3"
      },
      "execution_count": 1,
      "outputs": []
    },
    {
      "cell_type": "markdown",
      "source": [
        "##**1. Data Preparation**"
      ],
      "metadata": {
        "id": "uIJWWXimgcxZ"
      }
    },
    {
      "cell_type": "markdown",
      "source": [
        "###**1.1 Data Loading**"
      ],
      "metadata": {
        "id": "4x05d3EcgiXj"
      }
    },
    {
      "cell_type": "code",
      "source": [
        "from sklearn import datasets\n",
        "\n",
        "iris = datasets.load_iris()"
      ],
      "metadata": {
        "id": "LyNqvMEgfplR"
      },
      "execution_count": 2,
      "outputs": []
    },
    {
      "cell_type": "code",
      "source": [
        "iris.target_names"
      ],
      "metadata": {
        "colab": {
          "base_uri": "https://localhost:8080/"
        },
        "id": "CgozfZMOfpiz",
        "outputId": "59a780b3-5847-4b4c-a6a5-df6d69d3a6f3"
      },
      "execution_count": 3,
      "outputs": [
        {
          "output_type": "execute_result",
          "data": {
            "text/plain": [
              "array(['setosa', 'versicolor', 'virginica'], dtype='<U10')"
            ]
          },
          "metadata": {},
          "execution_count": 3
        }
      ]
    },
    {
      "cell_type": "markdown",
      "source": [
        "###**1.2 Data Selection**"
      ],
      "metadata": {
        "id": "i2SX7C2iiANc"
      }
    },
    {
      "cell_type": "code",
      "source": [
        "X = iris.data[iris.target!=2][:,:2]\n",
        "y = iris.target[iris.target!=2]\n",
        "X.shape, y.shape"
      ],
      "metadata": {
        "colab": {
          "base_uri": "https://localhost:8080/"
        },
        "id": "dewLk5lzfpgN",
        "outputId": "85ab24aa-e6ff-4f92-c19f-e0b6b3498cbd"
      },
      "execution_count": 4,
      "outputs": [
        {
          "output_type": "execute_result",
          "data": {
            "text/plain": [
              "((100, 2), (100,))"
            ]
          },
          "metadata": {},
          "execution_count": 4
        }
      ]
    },
    {
      "cell_type": "markdown",
      "source": [
        "###**1.3 Data Split**"
      ],
      "metadata": {
        "id": "t7eUtoH6h5xz"
      }
    },
    {
      "cell_type": "code",
      "source": [
        "from sklearn.model_selection import train_test_split\n",
        "\n",
        "X_train, X_test, y_train, y_test = train_test_split(X, y, train_size=0.8, random_state=42)\n",
        "X_train.shape, X_test.shape, y_train.shape, y_test.shape"
      ],
      "metadata": {
        "colab": {
          "base_uri": "https://localhost:8080/"
        },
        "id": "NdTdXmkkfpd1",
        "outputId": "d45eb135-38ab-4e50-dabb-a209535eb9e8"
      },
      "execution_count": 5,
      "outputs": [
        {
          "output_type": "execute_result",
          "data": {
            "text/plain": [
              "((80, 2), (20, 2), (80,), (20,))"
            ]
          },
          "metadata": {},
          "execution_count": 5
        }
      ]
    },
    {
      "cell_type": "markdown",
      "source": [
        "###**1.4 Converting to tensor**"
      ],
      "metadata": {
        "id": "6FUCv8ugioMK"
      }
    },
    {
      "cell_type": "code",
      "source": [
        "X_train_tensor = torch.tensor(X_train, dtype=torch.float)\n",
        "X_test_tensor = torch.tensor(X_test, dtype=torch.float)\n",
        "y_train_tensor = torch.tensor(y_train, dtype=torch.float).unsqueeze(1)\n",
        "y_test_tensor = torch.tensor(y_test, dtype=torch.float).unsqueeze(1)\n",
        "X_train_tensor.shape, y_train_tensor.shape"
      ],
      "metadata": {
        "colab": {
          "base_uri": "https://localhost:8080/"
        },
        "id": "8dBdxK5hfpba",
        "outputId": "e661486a-2912-459b-a301-19bcec571e97"
      },
      "execution_count": 6,
      "outputs": [
        {
          "output_type": "execute_result",
          "data": {
            "text/plain": [
              "(torch.Size([80, 2]), torch.Size([80, 1]))"
            ]
          },
          "metadata": {},
          "execution_count": 6
        }
      ]
    },
    {
      "cell_type": "markdown",
      "source": [
        "##**2. Model Preparation**"
      ],
      "metadata": {
        "id": "w8AHJaO2fpYw"
      }
    },
    {
      "cell_type": "markdown",
      "source": [
        "###**2.1 Model Defination**"
      ],
      "metadata": {
        "id": "085z_bV1jdkS"
      }
    },
    {
      "cell_type": "code",
      "source": [
        "class LogisticRegresssion(nn.Module):\n",
        "  def __init__(self):\n",
        "    super().__init__()\n",
        "\n",
        "    self.layer = nn.Sequential(\n",
        "        nn.Linear(in_features=2, out_features=1),\n",
        "        nn.Sigmoid()\n",
        "    )\n",
        "\n",
        "  def forward(self, x):\n",
        "    return self.layer(x)"
      ],
      "metadata": {
        "id": "YCD7r1KWfpWT"
      },
      "execution_count": 7,
      "outputs": []
    },
    {
      "cell_type": "markdown",
      "source": [
        "###**2.2 Instance of model**"
      ],
      "metadata": {
        "id": "-pgsOT_fkzno"
      }
    },
    {
      "cell_type": "code",
      "source": [
        "torch.manual_seed(42)\n",
        "model = LogisticRegresssion()\n",
        "model.state_dict()"
      ],
      "metadata": {
        "colab": {
          "base_uri": "https://localhost:8080/"
        },
        "id": "w3Lxwm52fpT3",
        "outputId": "b3336bd9-d292-4fd4-bdb5-60454bb4a2b9"
      },
      "execution_count": 8,
      "outputs": [
        {
          "output_type": "execute_result",
          "data": {
            "text/plain": [
              "OrderedDict([('layer.0.weight', tensor([[0.5406, 0.5869]])),\n",
              "             ('layer.0.bias', tensor([-0.1657]))])"
            ]
          },
          "metadata": {},
          "execution_count": 8
        }
      ]
    },
    {
      "cell_type": "markdown",
      "source": [
        "##**3. Initial Data Visualizaiton**"
      ],
      "metadata": {
        "id": "u7kkGOQglMxI"
      }
    },
    {
      "cell_type": "markdown",
      "source": [
        "###**3.1 Visualizer Function**"
      ],
      "metadata": {
        "id": "-7Ik8HVwlSF-"
      }
    },
    {
      "cell_type": "code",
      "source": [
        "import numpy as np\n",
        "from matplotlib.colors import ListedColormap\n",
        "\n",
        "def plot_decision_boundary(model, X, y, title):\n",
        "    x_min, x_max = X[:, 0].min() - 1, X[:, 0].max() + 1\n",
        "    y_min, y_max = X[:, 1].min() - 1, X[:, 1].max() + 1\n",
        "    xx, yy = np.meshgrid(np.arange(x_min, x_max, 0.01), np.arange(y_min, y_max, 0.01))\n",
        "    grid = np.c_[xx.ravel(), yy.ravel()]\n",
        "    grid_tensor = torch.tensor(grid, dtype=torch.float32)\n",
        "    with torch.no_grad():\n",
        "        probs = model(grid_tensor).numpy().reshape(xx.shape)\n",
        "\n",
        "    plt.contourf(xx, yy, probs, alpha=0.8, cmap=ListedColormap(['#FFAAAA', '#AAAAFF']))\n",
        "    plt.scatter(X[:, 0], X[:, 1], c=y, edgecolors='k', marker='o', cmap=ListedColormap(['#FF0000', '#0000FF']))\n",
        "    plt.xlim(xx.min(), xx.max())\n",
        "    plt.ylim(yy.min(), yy.max())\n",
        "    plt.title(title)\n",
        "    plt.show()"
      ],
      "metadata": {
        "id": "0JuuKflpfpRY"
      },
      "execution_count": 9,
      "outputs": []
    },
    {
      "cell_type": "markdown",
      "source": [
        "### **3.2 Plotting the Data**"
      ],
      "metadata": {
        "id": "vNUHLOMzmJfc"
      }
    },
    {
      "cell_type": "code",
      "source": [
        "plot_decision_boundary(model, X, y, 'Initial visulaizaiton before training')"
      ],
      "metadata": {
        "id": "lBx1FdkufpO0",
        "colab": {
          "base_uri": "https://localhost:8080/",
          "height": 452
        },
        "outputId": "921f29ca-bd6e-4d13-f127-3647e6921ff0"
      },
      "execution_count": 10,
      "outputs": [
        {
          "output_type": "display_data",
          "data": {
            "text/plain": [
              "<Figure size 640x480 with 1 Axes>"
            ],
            "image/png": "[encoded data removed]"
          },
          "metadata": {}
        }
      ]
    },
    {
      "cell_type": "markdown",
      "source": [
        "##**4. Model Training**"
      ],
      "metadata": {
        "id": "NkwmF2uanBkI"
      }
    },
    {
      "cell_type": "markdown",
      "source": [
        "###**4.1 Loss and Optimizer**"
      ],
      "metadata": {
        "id": "gx7IHvI8nGxh"
      }
    },
    {
      "cell_type": "code",
      "source": [
        "loss_fn = nn.BCELoss()\n",
        "\n",
        "optimizer = torch.optim.Adam(\n",
        "    model.parameters(),\n",
        "    lr=0.1)"
      ],
      "metadata": {
        "id": "4jJTY6fvnK2_"
      },
      "execution_count": 11,
      "outputs": []
    },
    {
      "cell_type": "markdown",
      "source": [
        "###**4.2 Training Loop**"
      ],
      "metadata": {
        "id": "nLixBXFWn4qK"
      }
    },
    {
      "cell_type": "code",
      "source": [
        "def train_loop(model:nn.Module,\n",
        "               X:torch.tensor,\n",
        "               y:torch.tensor,\n",
        "               loss_fn:nn.Module,\n",
        "               optimizer:torch.optim,\n",
        "               device:torch.device):\n",
        "\n",
        "  X = X.to(device)\n",
        "  y = y.to(device)\n",
        "  model = model.to(device)\n",
        "\n",
        "  #1.forward pass\n",
        "  model.train()\n",
        "  y_hat = model(X)\n",
        "\n",
        "  #2.loss calculation\n",
        "  loss = loss_fn(y_hat,y)\n",
        "\n",
        "  #3.optimizer zero_grad()\n",
        "  optimizer.zero_grad()\n",
        "\n",
        "  #4.loss.backward()\n",
        "  loss.backward()\n",
        "\n",
        "  #5.optimizer step\n",
        "  optimizer.step()\n",
        "\n",
        "  return loss\n"
      ],
      "metadata": {
        "id": "9BxQ3HsZfpMb"
      },
      "execution_count": 12,
      "outputs": []
    },
    {
      "cell_type": "markdown",
      "source": [
        "### **4.3 Test loop**"
      ],
      "metadata": {
        "id": "h-6uWdRHo9ml"
      }
    },
    {
      "cell_type": "code",
      "source": [
        "def test_loop(model:nn.Module,\n",
        "               X:torch.tensor,\n",
        "               y:torch.tensor,\n",
        "               loss_fn:nn.Module,\n",
        "               device:torch.device):\n",
        "\n",
        "  X = X.to(device)\n",
        "  y = y.to(device)\n",
        "  model = model.to(device)\n",
        "\n",
        "  model.eval()\n",
        "  with torch.inference_mode():\n",
        "    y_hat = model(X)\n",
        "\n",
        "  loss = loss_fn(y_hat,y)\n",
        "  return loss"
      ],
      "metadata": {
        "id": "HU14V_q7fpKJ"
      },
      "execution_count": 13,
      "outputs": []
    },
    {
      "cell_type": "markdown",
      "source": [
        "###**4.4 Acutual Training**"
      ],
      "metadata": {
        "id": "zYg-BSc4phvu"
      }
    },
    {
      "cell_type": "markdown",
      "source": [
        "**`Device configuaration`**"
      ],
      "metadata": {
        "id": "sKGS70CMpqWB"
      }
    },
    {
      "cell_type": "code",
      "source": [
        "device = \"cuda\" if torch.cuda.is_available() else \"cpu\"\n",
        "device"
      ],
      "metadata": {
        "colab": {
          "base_uri": "https://localhost:8080/",
          "height": 36
        },
        "id": "iYyqJzZIfpHt",
        "outputId": "ff07295c-29fc-40ff-b257-cacb3d3496b7"
      },
      "execution_count": 14,
      "outputs": [
        {
          "output_type": "execute_result",
          "data": {
            "text/plain": [
              "'cpu'"
            ],
            "application/vnd.google.colaboratory.intrinsic+json": {
              "type": "string"
            }
          },
          "metadata": {},
          "execution_count": 14
        }
      ]
    },
    {
      "cell_type": "code",
      "source": [
        "epochs = 10000\n",
        "epoch_counter = []\n",
        "train_loss_counter = []\n",
        "test_loss_counter = []\n",
        "\n",
        "for epoch in range(epochs):\n",
        "  epoch_counter.append(epoch)\n",
        "  train_loss = train_loop(model=model,\n",
        "                          X=X_train_tensor,\n",
        "                          y=y_train_tensor,\n",
        "                          loss_fn=loss_fn,\n",
        "                          optimizer=optimizer,\n",
        "                          device=device)\n",
        "  train_loss_counter.append(train_loss)\n",
        "\n",
        "  test_loss = test_loop(model=model,\n",
        "                        X=X_test_tensor,\n",
        "                        y=y_test_tensor,\n",
        "                        loss_fn=loss_fn,\n",
        "                        device=device)\n",
        "  test_loss_counter.append(test_loss)\n",
        "\n",
        "  if epoch % 1000 == 0:\n",
        "    print(f\"Epoch:{epoch} | Train_loss: {train_loss} | Test_loss: {test_loss}\")\n"
      ],
      "metadata": {
        "colab": {
          "base_uri": "https://localhost:8080/"
        },
        "id": "bv7Oqkl0fpFR",
        "outputId": "d230159a-9bdc-4f85-c92c-96b8bb794bdb"
      },
      "execution_count": 15,
      "outputs": [
        {
          "output_type": "stream",
          "name": "stdout",
          "text": [
            "Epoch:0 | Train_loss: 2.1579504013061523 | Test_loss: 2.2415053844451904\n",
            "Epoch:1000 | Train_loss: 0.051035620272159576 | Test_loss: 0.025614211335778236\n",
            "Epoch:2000 | Train_loss: 0.02886383607983589 | Test_loss: 0.010417102836072445\n",
            "Epoch:3000 | Train_loss: 0.017414240166544914 | Test_loss: 0.005773012991994619\n",
            "Epoch:4000 | Train_loss: 0.011036385782063007 | Test_loss: 0.0035724714398384094\n",
            "Epoch:5000 | Train_loss: 0.00715277623385191 | Test_loss: 0.0023046189453452826\n",
            "Epoch:6000 | Train_loss: 0.004650965332984924 | Test_loss: 0.001507746521383524\n",
            "Epoch:7000 | Train_loss: 0.0030051469802856445 | Test_loss: 0.000980710843577981\n",
            "Epoch:8000 | Train_loss: 0.0019223548006266356 | Test_loss: 0.0006274703191593289\n",
            "Epoch:9000 | Train_loss: 0.001216998090967536 | Test_loss: 0.00039373888284899294\n"
          ]
        }
      ]
    },
    {
      "cell_type": "code",
      "source": [
        "model.state_dict()"
      ],
      "metadata": {
        "colab": {
          "base_uri": "https://localhost:8080/"
        },
        "id": "6gWgwY2VfpC5",
        "outputId": "963dfcfa-dd62-4d9d-d4ef-e814b404ea42"
      },
      "execution_count": 16,
      "outputs": [
        {
          "output_type": "execute_result",
          "data": {
            "text/plain": [
              "OrderedDict([('layer.0.weight', tensor([[ 27.4850, -24.0345]])),\n",
              "             ('layer.0.bias', tensor([-72.2571]))])"
            ]
          },
          "metadata": {},
          "execution_count": 16
        }
      ]
    },
    {
      "cell_type": "markdown",
      "source": [
        "###**4.5 Loss Curve**"
      ],
      "metadata": {
        "id": "SVePSqPfrauR"
      }
    },
    {
      "cell_type": "code",
      "source": [
        "plt.plot(epoch_counter, torch.tensor(train_loss_counter).detach().cpu().numpy(), label=\"Train Loss\")\n",
        "plt.plot(epoch_counter, torch.tensor(test_loss_counter).detach().cpu().numpy(), label=\"Test Loss\")\n",
        "plt.title(\"Train Loss Vs Test Loss\")\n",
        "plt.xlabel(\"Epoch\")\n",
        "plt.ylabel(\"Loss\")\n",
        "plt.legend()"
      ],
      "metadata": {
        "colab": {
          "base_uri": "https://localhost:8080/",
          "height": 490
        },
        "id": "zM9I4VnmrguW",
        "outputId": "96b0b293-b098-449f-82a2-bdd6013af38f"
      },
      "execution_count": 17,
      "outputs": [
        {
          "output_type": "execute_result",
          "data": {
            "text/plain": [
              "<matplotlib.legend.Legend at 0x782e25cb0610>"
            ]
          },
          "metadata": {},
          "execution_count": 17
        },
        {
          "output_type": "display_data",
          "data": {
            "text/plain": [
              "<Figure size 640x480 with 1 Axes>"
            ],
            "image/png": "[encoded data removed]"
          },
          "metadata": {}
        }
      ]
    },
    {
      "cell_type": "markdown",
      "source": [
        "## **5. Post Data Visualization**"
      ],
      "metadata": {
        "id": "0iNcA2OfrFnT"
      }
    },
    {
      "cell_type": "code",
      "source": [
        "plot_decision_boundary(model.cpu(), X, y, 'Post Visualization after training')"
      ],
      "metadata": {
        "colab": {
          "base_uri": "https://localhost:8080/",
          "height": 452
        },
        "id": "deQKHL8afpAa",
        "outputId": "015aaa22-9ee7-4f75-9254-b406b7529005"
      },
      "execution_count": 18,
      "outputs": [
        {
          "output_type": "display_data",
          "data": {
            "text/plain": [
              "<Figure size 640x480 with 1 Axes>"
            ],
            "image/png": "[encoded data removed]"
          },
          "metadata": {}
        }
      ]
    },
    {
      "cell_type": "code",
      "source": [],
      "metadata": {
        "id": "Qtqo8NUsfo99"
      },
      "execution_count": 18,
      "outputs": []
    },
    {
      "cell_type": "code",
      "source": [],
      "metadata": {
        "id": "jZLyFeTMfo7g"
      },
      "execution_count": 18,
      "outputs": []
    },
    {
      "cell_type": "code",
      "source": [],
      "metadata": {
        "id": "0hpwsYhhfo4o"
      },
      "execution_count": 18,
      "outputs": []
    }
  ]
}