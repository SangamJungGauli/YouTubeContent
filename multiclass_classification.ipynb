{
  "nbformat": 4,
  "nbformat_minor": 0,
  "metadata": {
    "colab": {
      "provenance": []
    },
    "kernelspec": {
      "name": "python3",
      "display_name": "Python 3"
    },
    "language_info": {
      "name": "python"
    }
  },
  "cells": [
    {
      "cell_type": "markdown",
      "source": [
        "# **Cotents**\n",
        "**1.Data Preparation**\n",
        "\n",
        "**2. Model Preparation**\n",
        "\n",
        "**3. Initial Data Visualization**\n",
        "\n",
        "**4. Model Training**\n",
        "\n",
        "**5. Post Data Visualization**"
      ],
      "metadata": {
        "id": "o9uvDCP8fjZh"
      }
    },
    {
      "cell_type": "code",
      "source": [
        "import torch\n",
        "from torch import nn\n",
        "import matplotlib.pyplot as plt"
      ],
      "metadata": {
        "id": "xF9rGmiifpn3"
      },
      "execution_count": 19,
      "outputs": []
    },
    {
      "cell_type": "markdown",
      "source": [
        "##**1. Data Preparation**"
      ],
      "metadata": {
        "id": "uIJWWXimgcxZ"
      }
    },
    {
      "cell_type": "markdown",
      "source": [
        "###**1.1 Data Loading**"
      ],
      "metadata": {
        "id": "4x05d3EcgiXj"
      }
    },
    {
      "cell_type": "code",
      "source": [
        "from sklearn import datasets\n",
        "\n",
        "iris = datasets.load_iris()"
      ],
      "metadata": {
        "id": "LyNqvMEgfplR"
      },
      "execution_count": 20,
      "outputs": []
    },
    {
      "cell_type": "code",
      "source": [
        "iris.target_names"
      ],
      "metadata": {
        "colab": {
          "base_uri": "https://localhost:8080/"
        },
        "id": "CgozfZMOfpiz",
        "outputId": "20a269af-c363-496e-8501-9cebbc01c336"
      },
      "execution_count": 21,
      "outputs": [
        {
          "output_type": "execute_result",
          "data": {
            "text/plain": [
              "array(['setosa', 'versicolor', 'virginica'], dtype='<U10')"
            ]
          },
          "metadata": {},
          "execution_count": 21
        }
      ]
    },
    {
      "cell_type": "markdown",
      "source": [
        "###**1.2 Data Selection**"
      ],
      "metadata": {
        "id": "i2SX7C2iiANc"
      }
    },
    {
      "cell_type": "code",
      "source": [
        "# X = iris.data\n",
        "X = iris.data[:,[1,3]]\n",
        "y = iris.target\n",
        "X.shape, y.shape"
      ],
      "metadata": {
        "colab": {
          "base_uri": "https://localhost:8080/"
        },
        "id": "dewLk5lzfpgN",
        "outputId": "bb3b5976-25f3-4d0a-9366-a4c50e64562d"
      },
      "execution_count": 22,
      "outputs": [
        {
          "output_type": "execute_result",
          "data": {
            "text/plain": [
              "((150, 2), (150,))"
            ]
          },
          "metadata": {},
          "execution_count": 22
        }
      ]
    },
    {
      "cell_type": "code",
      "source": [
        "X[:2]"
      ],
      "metadata": {
        "colab": {
          "base_uri": "https://localhost:8080/"
        },
        "id": "Wt7Gd0HSrcU8",
        "outputId": "ff25a800-e9fa-4745-cb75-542c24a92cb3"
      },
      "execution_count": 23,
      "outputs": [
        {
          "output_type": "execute_result",
          "data": {
            "text/plain": [
              "array([[3.5, 0.2],\n",
              "       [3. , 0.2]])"
            ]
          },
          "metadata": {},
          "execution_count": 23
        }
      ]
    },
    {
      "cell_type": "markdown",
      "source": [
        "###**1.3 Data Split**"
      ],
      "metadata": {
        "id": "t7eUtoH6h5xz"
      }
    },
    {
      "cell_type": "code",
      "source": [
        "from sklearn.model_selection import train_test_split\n",
        "\n",
        "X_train, X_test, y_train, y_test = train_test_split(X, y, train_size=0.8, random_state=42)\n",
        "X_train.shape, X_test.shape, y_train.shape, y_test.shape"
      ],
      "metadata": {
        "colab": {
          "base_uri": "https://localhost:8080/"
        },
        "id": "NdTdXmkkfpd1",
        "outputId": "5389d5a6-69d1-4412-9c36-2997130c9ffc"
      },
      "execution_count": 24,
      "outputs": [
        {
          "output_type": "execute_result",
          "data": {
            "text/plain": [
              "((120, 2), (30, 2), (120,), (30,))"
            ]
          },
          "metadata": {},
          "execution_count": 24
        }
      ]
    },
    {
      "cell_type": "markdown",
      "source": [
        "###**1.4 Converting to tensor**"
      ],
      "metadata": {
        "id": "6FUCv8ugioMK"
      }
    },
    {
      "cell_type": "code",
      "source": [
        "X_train_tensor = torch.tensor(X_train, dtype=torch.float)\n",
        "X_test_tensor = torch.tensor(X_test, dtype=torch.float)\n",
        "y_train_tensor = torch.tensor(y_train, dtype=torch.long)\n",
        "y_test_tensor = torch.tensor(y_test, dtype=torch.long)\n",
        "X_train_tensor.shape, y_train_tensor.shape"
      ],
      "metadata": {
        "colab": {
          "base_uri": "https://localhost:8080/"
        },
        "id": "8dBdxK5hfpba",
        "outputId": "69e94cf6-1b45-484f-ffed-162adf8c0684"
      },
      "execution_count": 25,
      "outputs": [
        {
          "output_type": "execute_result",
          "data": {
            "text/plain": [
              "(torch.Size([120, 2]), torch.Size([120]))"
            ]
          },
          "metadata": {},
          "execution_count": 25
        }
      ]
    },
    {
      "cell_type": "markdown",
      "source": [
        "##**2. Model Preparation**"
      ],
      "metadata": {
        "id": "w8AHJaO2fpYw"
      }
    },
    {
      "cell_type": "markdown",
      "source": [
        "###**2.1 Model Defination**"
      ],
      "metadata": {
        "id": "085z_bV1jdkS"
      }
    },
    {
      "cell_type": "code",
      "source": [
        "class LogisticRegresssion(nn.Module):\n",
        "  def __init__(self):\n",
        "    super().__init__()\n",
        "\n",
        "    self.layer = nn.Sequential(\n",
        "        nn.Linear(in_features=2, out_features=3),\n",
        "    )\n",
        "\n",
        "  def forward(self, x):\n",
        "    return self.layer(x)"
      ],
      "metadata": {
        "id": "YCD7r1KWfpWT"
      },
      "execution_count": 26,
      "outputs": []
    },
    {
      "cell_type": "markdown",
      "source": [
        "###**2.2 Instance of model**"
      ],
      "metadata": {
        "id": "-pgsOT_fkzno"
      }
    },
    {
      "cell_type": "code",
      "source": [
        "torch.manual_seed(100)\n",
        "model = LogisticRegresssion()\n",
        "model.state_dict()"
      ],
      "metadata": {
        "colab": {
          "base_uri": "https://localhost:8080/"
        },
        "id": "w3Lxwm52fpT3",
        "outputId": "31c3d8d8-0c3a-4662-8db5-17ac12bf27a5"
      },
      "execution_count": 27,
      "outputs": [
        {
          "output_type": "execute_result",
          "data": {
            "text/plain": [
              "OrderedDict([('layer.0.weight',\n",
              "              tensor([[-0.5492,  0.4467],\n",
              "                      [-0.3358, -0.0228],\n",
              "                      [ 0.2496,  0.3591]])),\n",
              "             ('layer.0.bias', tensor([-0.3356, -0.6465, -0.4129]))])"
            ]
          },
          "metadata": {},
          "execution_count": 27
        }
      ]
    },
    {
      "cell_type": "code",
      "source": [
        "input_tensor = torch.tensor([5.1,0.2])\n",
        "input_tensor"
      ],
      "metadata": {
        "colab": {
          "base_uri": "https://localhost:8080/"
        },
        "id": "xhXjSRU-uwB3",
        "outputId": "f4c63f5c-e902-4954-a991-b40affa8b969"
      },
      "execution_count": 28,
      "outputs": [
        {
          "output_type": "execute_result",
          "data": {
            "text/plain": [
              "tensor([5.1000, 0.2000])"
            ]
          },
          "metadata": {},
          "execution_count": 28
        }
      ]
    },
    {
      "cell_type": "code",
      "source": [
        "import numpy as np\n",
        "model.eval()\n",
        "with torch.inference_mode():\n",
        "  logits = model(input_tensor)\n",
        "  print(logits)\n",
        "  probs = torch.nn.functional.softmax(logits, dim=0).numpy()\n",
        "  print(probs)\n",
        "  print(f\"predicted class is: {np.argmax(probs)}\")"
      ],
      "metadata": {
        "colab": {
          "base_uri": "https://localhost:8080/"
        },
        "id": "T3ZMobOduuRb",
        "outputId": "c7ea3672-149c-4472-e65a-846a0ecf221b"
      },
      "execution_count": 29,
      "outputs": [
        {
          "output_type": "stream",
          "name": "stdout",
          "text": [
            "tensor([-3.0471, -2.3636,  0.9319])\n",
            "[0.01771525 0.03509167 0.9471931 ]\n",
            "predicted class is: 2\n"
          ]
        }
      ]
    },
    {
      "cell_type": "markdown",
      "source": [
        "##**3. Initial Data Visualizaiton**"
      ],
      "metadata": {
        "id": "u7kkGOQglMxI"
      }
    },
    {
      "cell_type": "markdown",
      "source": [
        "###**3.1 Visualizer Function**"
      ],
      "metadata": {
        "id": "-7Ik8HVwlSF-"
      }
    },
    {
      "cell_type": "code",
      "source": [
        "import numpy as np\n",
        "from matplotlib.colors import ListedColormap\n",
        "\n",
        "def plot_decision_boundary(model, X, y, title):\n",
        "    x_min, x_max = X[:, 0].min() - 1, X[:, 0].max() + 1\n",
        "    y_min, y_max = X[:, 1].min() - 1, X[:, 1].max() + 1\n",
        "    xx, yy = np.meshgrid(np.arange(x_min, x_max, 0.01), np.arange(y_min, y_max, 0.01))\n",
        "    grid = np.c_[xx.ravel(), yy.ravel()]\n",
        "    grid_tensor = torch.tensor(grid, dtype=torch.float32)\n",
        "    with torch.no_grad():\n",
        "        logits = model(grid_tensor)\n",
        "        probs = torch.nn.functional.softmax(logits, dim=1).numpy()\n",
        "    z = np.argmax(probs, axis=1).reshape(xx.shape)\n",
        "    plt.contourf(xx, yy, z, alpha=0.8, cmap=ListedColormap(['#FFAAAA', '#AAFFAA', '#AAAAFF']))\n",
        "    plt.scatter(X[:, 0], X[:, 1], c=y, edgecolors='k', marker='o', cmap=ListedColormap(['#FFAAAA', '#AAFFAA', '#AAAAFF']))\n",
        "    plt.xlim(xx.min(), xx.max())\n",
        "    plt.ylim(yy.min(), yy.max())\n",
        "    plt.title(title)\n",
        "    plt.show()\n"
      ],
      "metadata": {
        "id": "0JuuKflpfpRY"
      },
      "execution_count": 30,
      "outputs": []
    },
    {
      "cell_type": "markdown",
      "source": [
        "### **3.2 Plotting the Data**"
      ],
      "metadata": {
        "id": "vNUHLOMzmJfc"
      }
    },
    {
      "cell_type": "code",
      "source": [
        "plot_decision_boundary(model, X, y, 'Initial visulaizaiton before training')"
      ],
      "metadata": {
        "id": "lBx1FdkufpO0",
        "colab": {
          "base_uri": "https://localhost:8080/",
          "height": 452
        },
        "outputId": "35c2104d-2dc9-422f-efe8-dc4392172a55"
      },
      "execution_count": 31,
      "outputs": [
        {
          "output_type": "display_data",
          "data": {
            "text/plain": [
              "<Figure size 640x480 with 1 Axes>"
            ],
            "image/png": "[encoded data removed]"
          },
          "metadata": {}
        }
      ]
    },
    {
      "cell_type": "markdown",
      "source": [
        "##**4. Model Training**"
      ],
      "metadata": {
        "id": "NkwmF2uanBkI"
      }
    },
    {
      "cell_type": "markdown",
      "source": [
        "###**4.1 Loss and Optimizer**"
      ],
      "metadata": {
        "id": "gx7IHvI8nGxh"
      }
    },
    {
      "cell_type": "code",
      "source": [
        "loss_fn = nn.CrossEntropyLoss()\n",
        "\n",
        "optimizer = torch.optim.Adam(\n",
        "    model.parameters(),\n",
        "    lr=0.1)"
      ],
      "metadata": {
        "id": "4jJTY6fvnK2_"
      },
      "execution_count": 32,
      "outputs": []
    },
    {
      "cell_type": "markdown",
      "source": [
        "###**4.2 Training Loop**"
      ],
      "metadata": {
        "id": "nLixBXFWn4qK"
      }
    },
    {
      "cell_type": "code",
      "source": [
        "def train_loop(model:nn.Module,\n",
        "               X:torch.tensor,\n",
        "               y:torch.tensor,\n",
        "               loss_fn:nn.Module,\n",
        "               optimizer:torch.optim,\n",
        "               device:torch.device):\n",
        "\n",
        "  X = X.to(device)\n",
        "  y = y.to(device)\n",
        "  model = model.to(device)\n",
        "\n",
        "  #1.forward pass\n",
        "  model.train()\n",
        "  y_hat = model(X)\n",
        "  # print(y)\n",
        "\n",
        "  #2.loss calculation\n",
        "  loss = loss_fn(y_hat,y)\n",
        "\n",
        "  #3.optimizer zero_grad()\n",
        "  optimizer.zero_grad()\n",
        "\n",
        "  #4.loss.backward()\n",
        "  loss.backward()\n",
        "\n",
        "  #5.optimizer step\n",
        "  optimizer.step()\n",
        "\n",
        "  return loss\n"
      ],
      "metadata": {
        "id": "9BxQ3HsZfpMb"
      },
      "execution_count": 33,
      "outputs": []
    },
    {
      "cell_type": "markdown",
      "source": [
        "### **4.3 Test loop**"
      ],
      "metadata": {
        "id": "h-6uWdRHo9ml"
      }
    },
    {
      "cell_type": "code",
      "source": [
        "def test_loop(model:nn.Module,\n",
        "               X:torch.tensor,\n",
        "               y:torch.tensor,\n",
        "               loss_fn:nn.Module,\n",
        "               device:torch.device):\n",
        "\n",
        "  X = X.to(device)\n",
        "  y = y.to(device)\n",
        "  model = model.to(device)\n",
        "\n",
        "  model.eval()\n",
        "  with torch.inference_mode():\n",
        "    y_hat = model(X)\n",
        "\n",
        "  loss = loss_fn(y_hat,y)\n",
        "  return loss"
      ],
      "metadata": {
        "id": "HU14V_q7fpKJ"
      },
      "execution_count": 34,
      "outputs": []
    },
    {
      "cell_type": "markdown",
      "source": [
        "###**4.4 Acutual Training**"
      ],
      "metadata": {
        "id": "zYg-BSc4phvu"
      }
    },
    {
      "cell_type": "markdown",
      "source": [
        "**`Device configuaration`**"
      ],
      "metadata": {
        "id": "sKGS70CMpqWB"
      }
    },
    {
      "cell_type": "code",
      "source": [
        "device = \"cuda\" if torch.cuda.is_available() else \"cpu\"\n",
        "device"
      ],
      "metadata": {
        "colab": {
          "base_uri": "https://localhost:8080/",
          "height": 35
        },
        "id": "iYyqJzZIfpHt",
        "outputId": "2a16bd00-7cf1-4280-e53c-4e362cde373b"
      },
      "execution_count": 35,
      "outputs": [
        {
          "output_type": "execute_result",
          "data": {
            "text/plain": [
              "'cpu'"
            ],
            "application/vnd.google.colaboratory.intrinsic+json": {
              "type": "string"
            }
          },
          "metadata": {},
          "execution_count": 35
        }
      ]
    },
    {
      "cell_type": "code",
      "source": [
        "epochs = 1000\n",
        "epoch_counter = []\n",
        "train_loss_counter = []\n",
        "test_loss_counter = []\n",
        "\n",
        "for epoch in range(epochs):\n",
        "  epoch_counter.append(epoch)\n",
        "  train_loss = train_loop(model=model,\n",
        "                          X=X_train_tensor,\n",
        "                          y=y_train_tensor,\n",
        "                          loss_fn=loss_fn,\n",
        "                          optimizer=optimizer,\n",
        "                          device=device)\n",
        "  train_loss_counter.append(train_loss)\n",
        "\n",
        "  test_loss = test_loop(model=model,\n",
        "                        X=X_test_tensor,\n",
        "                        y=y_test_tensor,\n",
        "                        loss_fn=loss_fn,\n",
        "                        device=device)\n",
        "  test_loss_counter.append(test_loss)\n",
        "\n",
        "  if epoch % 100 == 0:\n",
        "    print(f\"Epoch:{epoch} | Train_loss: {train_loss} | Test_loss: {test_loss}\")\n"
      ],
      "metadata": {
        "colab": {
          "base_uri": "https://localhost:8080/"
        },
        "id": "bv7Oqkl0fpFR",
        "outputId": "24394c08-913e-4cf5-c429-093b3ed044df"
      },
      "execution_count": 36,
      "outputs": [
        {
          "output_type": "stream",
          "name": "stdout",
          "text": [
            "Epoch:0 | Train_loss: 1.873462200164795 | Test_loss: 1.3640949726104736\n",
            "Epoch:100 | Train_loss: 0.26757872104644775 | Test_loss: 0.229852095246315\n",
            "Epoch:200 | Train_loss: 0.17849873006343842 | Test_loss: 0.1413556933403015\n",
            "Epoch:300 | Train_loss: 0.14446239173412323 | Test_loss: 0.11062145978212357\n",
            "Epoch:400 | Train_loss: 0.1276656836271286 | Test_loss: 0.09727341681718826\n",
            "Epoch:500 | Train_loss: 0.11812523007392883 | Test_loss: 0.09090840071439743\n",
            "Epoch:600 | Train_loss: 0.11222456395626068 | Test_loss: 0.08783140033483505\n",
            "Epoch:700 | Train_loss: 0.10836268216371536 | Test_loss: 0.08644139021635056\n",
            "Epoch:800 | Train_loss: 0.10573070496320724 | Test_loss: 0.0859539732336998\n",
            "Epoch:900 | Train_loss: 0.10388093441724777 | Test_loss: 0.0859539806842804\n"
          ]
        }
      ]
    },
    {
      "cell_type": "code",
      "source": [
        "model.state_dict()"
      ],
      "metadata": {
        "colab": {
          "base_uri": "https://localhost:8080/"
        },
        "id": "6gWgwY2VfpC5",
        "outputId": "dcf4ae98-ed19-4c74-b064-ce30cd64bce4"
      },
      "execution_count": 37,
      "outputs": [
        {
          "output_type": "execute_result",
          "data": {
            "text/plain": [
              "OrderedDict([('layer.0.weight',\n",
              "              tensor([[  4.4807, -11.9576],\n",
              "                      [  0.9151,  -2.0463],\n",
              "                      [ -3.5741,  11.3253]])),\n",
              "             ('layer.0.bias', tensor([ 1.4014,  4.4270, -4.3719]))])"
            ]
          },
          "metadata": {},
          "execution_count": 37
        }
      ]
    },
    {
      "cell_type": "markdown",
      "source": [
        "###**4.5 Loss Curve**"
      ],
      "metadata": {
        "id": "SVePSqPfrauR"
      }
    },
    {
      "cell_type": "code",
      "source": [
        "plt.plot(epoch_counter, torch.tensor(train_loss_counter).detach().cpu().numpy(), label=\"Train Loss\")\n",
        "plt.plot(epoch_counter, torch.tensor(test_loss_counter).detach().cpu().numpy(), label=\"Test Loss\")\n",
        "plt.title(\"Train Loss Vs Test Loss\")\n",
        "plt.xlabel(\"Epoch\")\n",
        "plt.ylabel(\"Loss\")\n",
        "plt.legend()"
      ],
      "metadata": {
        "colab": {
          "base_uri": "https://localhost:8080/",
          "height": 489
        },
        "id": "zM9I4VnmrguW",
        "outputId": "2d0b35cb-ca1b-49d2-9bf6-bb27203cdd81"
      },
      "execution_count": 38,
      "outputs": [
        {
          "output_type": "execute_result",
          "data": {
            "text/plain": [
              "<matplotlib.legend.Legend at 0x7c7ee9477a30>"
            ]
          },
          "metadata": {},
          "execution_count": 38
        },
        {
          "output_type": "display_data",
          "data": {
            "text/plain": [
              "<Figure size 640x480 with 1 Axes>"
            ],
            "image/png": "[encoded data removed]"
          },
          "metadata": {}
        }
      ]
    },
    {
      "cell_type": "markdown",
      "source": [
        "## **5. Post Data Visualization**"
      ],
      "metadata": {
        "id": "0iNcA2OfrFnT"
      }
    },
    {
      "cell_type": "code",
      "source": [
        "plot_decision_boundary(model.cpu(), X, y, 'Post Visualization after training')"
      ],
      "metadata": {
        "id": "deQKHL8afpAa",
        "colab": {
          "base_uri": "https://localhost:8080/",
          "height": 452
        },
        "outputId": "0ac87bc4-2178-4b12-aad7-daaa51b5f79a"
      },
      "execution_count": 39,
      "outputs": [
        {
          "output_type": "display_data",
          "data": {
            "text/plain": [
              "<Figure size 640x480 with 1 Axes>"
            ],
            "image/png": "[encoded data removed]"
          },
          "metadata": {}
        }
      ]
    },
    {
      "cell_type": "markdown",
      "source": [
        "###**Evaluating the Model**"
      ],
      "metadata": {
        "id": "180r9lQIrCML"
      }
    },
    {
      "cell_type": "code",
      "source": [
        "input_tensor = torch.tensor([5.1,0.2])\n",
        "input_tensor"
      ],
      "metadata": {
        "id": "Qtqo8NUsfo99",
        "colab": {
          "base_uri": "https://localhost:8080/"
        },
        "outputId": "b83650c1-3a40-4a5e-949a-b4d20d833579"
      },
      "execution_count": 40,
      "outputs": [
        {
          "output_type": "execute_result",
          "data": {
            "text/plain": [
              "tensor([5.1000, 0.2000])"
            ]
          },
          "metadata": {},
          "execution_count": 40
        }
      ]
    },
    {
      "cell_type": "code",
      "source": [
        "model.eval()\n",
        "with torch.inference_mode():\n",
        "  logits = model(input_tensor)\n",
        "  print(logits)\n",
        "  probs = torch.nn.functional.softmax(logits, dim=0).numpy()\n",
        "  print(probs)\n",
        "  print(f\"predicted class is: {np.argmax(probs)}\")"
      ],
      "metadata": {
        "colab": {
          "base_uri": "https://localhost:8080/"
        },
        "id": "4_FXVbq-rBDN",
        "outputId": "ae01e9f0-9a19-4bf1-91a5-fbbfbcb6c4f2"
      },
      "execution_count": 41,
      "outputs": [
        {
          "output_type": "stream",
          "name": "stdout",
          "text": [
            "tensor([ 21.8613,   8.6846, -20.3349])\n",
            "[9.9999809e-01 1.8943409e-06 4.7251995e-19]\n",
            "predicted class is: 0\n"
          ]
        }
      ]
    }
  ]
}